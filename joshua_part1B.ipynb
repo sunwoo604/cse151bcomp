{
 "cells": [
  {
   "cell_type": "code",
   "execution_count": 1,
   "id": "7f4413f8",
   "metadata": {},
   "outputs": [],
   "source": [
    "import numpy as np\n",
    "import pandas as pd\n",
    "import matplotlib.pyplot as plt"
   ]
  },
  {
   "cell_type": "code",
   "execution_count": 10,
   "id": "1edd7e60",
   "metadata": {},
   "outputs": [],
   "source": [
    "train = pd.read_csv('train.csv')\n",
    "test = pd.read_csv('test.csv')"
   ]
  },
  {
   "cell_type": "code",
   "execution_count": 5,
   "id": "4d601ecf",
   "metadata": {},
   "outputs": [],
   "source": [
    "def polyline_to_trip_duration(polyline):\n",
    "    return max(polyline.count(\"[\") - 2, 0) * 15\n",
    "\n",
    "train[\"LEN\"] = train[\"POLYLINE\"].apply(polyline_to_trip_duration)"
   ]
  },
  {
   "cell_type": "code",
   "execution_count": 6,
   "id": "35ac7e65",
   "metadata": {},
   "outputs": [],
   "source": [
    "from datetime import datetime\n",
    "def parse_time(x):\n",
    "    dt = datetime.fromtimestamp(x[\"TIMESTAMP\"])\n",
    "    return dt.year, dt.month, dt.day, dt.hour, dt.weekday()\n",
    "\n",
    "train[[\"YR\", \"MON\", \"DAY\", \"HR\", \"WK\"]] = train[[\"TIMESTAMP\"]].apply(parse_time, axis=1, result_type=\"expand\")"
   ]
  },
  {
   "cell_type": "code",
   "execution_count": null,
   "id": "913beb71",
   "metadata": {},
   "outputs": [],
   "source": [
    "train['CALL_TYPE'] = train['CALL_TYPE'].replace({'A':1, 'B':2, 'C':3})\n",
    "train['DAY_TYPE'] = train['DAY_TYPE'].replace({'A':1, 'B':2, 'C':3})"
   ]
  },
  {
   "cell_type": "code",
   "execution_count": 42,
   "id": "59b0e630",
   "metadata": {},
   "outputs": [],
   "source": [
    "stand_data = pd.read_csv('metaData_taxistandsID_name_GPSlocation.csv')"
   ]
  },
  {
   "cell_type": "code",
   "execution_count": 49,
   "id": "310a1399",
   "metadata": {},
   "outputs": [],
   "source": [
    "train = train.merge(stand_data, how='left', left_on='ORIGIN_STAND', right_on='ID')"
   ]
  },
  {
   "cell_type": "code",
   "execution_count": 94,
   "id": "e055ccb1",
   "metadata": {},
   "outputs": [],
   "source": [
    "train['MISSING_DATA'] = train['MISSING_DATA'].replace({True:1, False:0})\n",
    "train = train.drop(['TRIP_ID', 'DAY_TYPE', 'TIMESTAMP', 'ORIGIN_CALL', 'Descricao', 'ID'], axis=1)\n",
    "train = train[train['LEN']!=0]\n",
    "\n",
    "train.loc[train['CALL_TYPE']==1, ['ORIGIN_STAND']] = 0\n",
    "train.loc[train['CALL_TYPE']==3, ['ORIGIN_STAND']] = -1"
   ]
  },
  {
   "cell_type": "code",
   "execution_count": 2,
   "id": "535bd16d",
   "metadata": {
    "collapsed": true
   },
   "outputs": [
    {
     "ename": "NameError",
     "evalue": "name 'train' is not defined",
     "output_type": "error",
     "traceback": [
      "\u001b[0;31m---------------------------------------------------------------------------\u001b[0m",
      "\u001b[0;31mNameError\u001b[0m                                 Traceback (most recent call last)",
      "\u001b[0;32m/tmp/ipykernel_1128/4025892451.py\u001b[0m in \u001b[0;36m<module>\u001b[0;34m\u001b[0m\n\u001b[0;32m----> 1\u001b[0;31m \u001b[0mtrain\u001b[0m\u001b[0;34m.\u001b[0m\u001b[0mto_csv\u001b[0m\u001b[0;34m(\u001b[0m\u001b[0;34m'cleaned_train.csv'\u001b[0m\u001b[0;34m)\u001b[0m\u001b[0;34m\u001b[0m\u001b[0;34m\u001b[0m\u001b[0m\n\u001b[0m",
      "\u001b[0;31mNameError\u001b[0m: name 'train' is not defined"
     ]
    }
   ],
   "source": [
    "train.to_csv('cleaned_train.csv')"
   ]
  },
  {
   "cell_type": "code",
   "execution_count": 2,
   "id": "a022dcb4",
   "metadata": {
    "scrolled": true
   },
   "outputs": [],
   "source": [
    "train = pd.read_csv('cleaned_train.csv', index_col=0)"
   ]
  },
  {
   "cell_type": "code",
   "execution_count": 21,
   "id": "bc51823a",
   "metadata": {},
   "outputs": [
    {
     "name": "stdout",
     "output_type": "stream",
     "text": [
      "mean=732.0502550532805 median=615.0 std=683.8655961814885\n"
     ]
    }
   ],
   "source": [
    "mean, std = train[\"LEN\"].mean(), train[\"LEN\"].std()\n",
    "median = train[\"LEN\"].median()\n",
    "print(f\"{mean=} {median=} {std=}\")"
   ]
  },
  {
   "cell_type": "code",
   "execution_count": 22,
   "id": "2481a9bf",
   "metadata": {},
   "outputs": [],
   "source": [
    "outlier_threshold = 3\n",
    "df_trimmed = train[train[\"LEN\"] < mean + outlier_threshold * std]"
   ]
  },
  {
   "cell_type": "code",
   "execution_count": 23,
   "id": "423af193",
   "metadata": {},
   "outputs": [
    {
     "data": {
      "text/plain": [
       "(array([182454., 549821., 489267., 238298., 101656.,  47131.,  22169.,\n",
       "         13066.,   7531.,   5099.]),\n",
       " array([  15.,  291.,  567.,  843., 1119., 1395., 1671., 1947., 2223.,\n",
       "        2499., 2775.]),\n",
       " <BarContainer object of 10 artists>)"
      ]
     },
     "execution_count": 23,
     "metadata": {},
     "output_type": "execute_result"
    },
    {
     "data": {
      "image/png": "[encoded data removed]",
      "text/plain": [
       "<Figure size 432x288 with 1 Axes>"
      ]
     },
     "metadata": {
      "needs_background": "light"
     },
     "output_type": "display_data"
    }
   ],
   "source": [
    "plt.hist(df_trimmed['LEN'])"
   ]
  },
  {
   "cell_type": "code",
   "execution_count": 3,
   "id": "c816fe17",
   "metadata": {},
   "outputs": [],
   "source": [
    "import re"
   ]
  },
  {
   "cell_type": "code",
   "execution_count": 4,
   "id": "f300fd2c",
   "metadata": {},
   "outputs": [],
   "source": [
    "long = train['POLYLINE'][:1000000].apply(lambda x: re.findall('\\[(-\\d+\\.\\d+),', x))"
   ]
  },
  {
   "cell_type": "code",
   "execution_count": 5,
   "id": "df3d29ff",
   "metadata": {},
   "outputs": [],
   "source": [
    "long_coords = []\n",
    "for i in long:\n",
    "    long_coords += i"
   ]
  },
  {
   "cell_type": "code",
   "execution_count": 6,
   "id": "e6050c0a",
   "metadata": {},
   "outputs": [],
   "source": [
    "long_coords = pd.cut(list(map(float,long_coords)), 10, retbins=True)"
   ]
  },
  {
   "cell_type": "code",
   "execution_count": 8,
   "id": "019caf73",
   "metadata": {},
   "outputs": [],
   "source": [
    "lat = train['POLYLINE'][:1000000].apply(lambda x: re.findall('\\,(\\d+\\.\\d+)', x))"
   ]
  },
  {
   "cell_type": "code",
   "execution_count": 9,
   "id": "0110812f",
   "metadata": {},
   "outputs": [],
   "source": [
    "lat_coords = []\n",
    "for i in lat:\n",
    "    lat_coords += i"
   ]
  },
  {
   "cell_type": "code",
   "execution_count": 10,
   "id": "b813a608",
   "metadata": {},
   "outputs": [],
   "source": [
    "lat_coords = pd.cut(list(map(float,lat_coords)), 10, retbins=True)"
   ]
  },
  {
   "cell_type": "code",
   "execution_count": 12,
   "id": "6371b73d",
   "metadata": {},
   "outputs": [
    {
     "name": "stderr",
     "output_type": "stream",
     "text": [
      "/tmp/ipykernel_108/3824418148.py:1: FutureWarning: The behavior of DataFrame([categorical, ...]) is deprecated and in a future version will be changed to match the behavior of DataFrame([any_listlike, ...]). To retain the old behavior, pass as a dictionary DataFrame({col: categorical, ..})\n",
      "  binned_data = pd.DataFrame([long_coords[0], lat_coords[0]])\n"
     ]
    }
   ],
   "source": [
    "binned_data = pd.DataFrame([long_coords[0], lat_coords[0]])"
   ]
  },
  {
   "cell_type": "code",
   "execution_count": 13,
   "id": "04dec010",
   "metadata": {},
   "outputs": [],
   "source": [
    "binned_data[2] = np.ones(len(binned_data))\n",
    "binned_data = binned_data.rename(columns={0:\"Longitude\", 1:\"Latitude\"})"
   ]
  },
  {
   "cell_type": "code",
   "execution_count": 15,
   "id": "eed8a38e",
   "metadata": {},
   "outputs": [],
   "source": [
    "mapped_data = binned_data.groupby([\"Longitude\", \"Latitude\"])[2].count().unstack()\n",
    "mapped_data = mapped_data.apply(lambda x: np.log(x+1))"
   ]
  },
  {
   "cell_type": "code",
   "execution_count": 17,
   "id": "82f67ef4",
   "metadata": {},
   "outputs": [
    {
     "data": {
      "text/html": [
       "<div>\n",
       "<style scoped>\n",
       "    .dataframe tbody tr th:only-of-type {\n",
       "        vertical-align: middle;\n",
       "    }\n",
       "\n",
       "    .dataframe tbody tr th {\n",
       "        vertical-align: top;\n",
       "    }\n",
       "\n",
       "    .dataframe thead th {\n",
       "        text-align: right;\n",
       "    }\n",
       "</style>\n",
       "<table border=\"1\" class=\"dataframe\">\n",
       "  <thead>\n",
       "    <tr style=\"text-align: right;\">\n",
       "      <th>Latitude</th>\n",
       "      <th>(36.872, 38.301]</th>\n",
       "      <th>(38.301, 39.716]</th>\n",
       "      <th>(39.716, 41.131]</th>\n",
       "      <th>(41.131, 42.547]</th>\n",
       "      <th>(42.547, 43.962]</th>\n",
       "      <th>(43.962, 45.377]</th>\n",
       "      <th>(45.377, 46.792]</th>\n",
       "      <th>(46.792, 48.207]</th>\n",
       "      <th>(48.207, 49.622]</th>\n",
       "      <th>(49.622, 51.037]</th>\n",
       "    </tr>\n",
       "    <tr>\n",
       "      <th>Longitude</th>\n",
       "      <th></th>\n",
       "      <th></th>\n",
       "      <th></th>\n",
       "      <th></th>\n",
       "      <th></th>\n",
       "      <th></th>\n",
       "      <th></th>\n",
       "      <th></th>\n",
       "      <th></th>\n",
       "      <th></th>\n",
       "    </tr>\n",
       "  </thead>\n",
       "  <tbody>\n",
       "    <tr>\n",
       "      <th>(-13.181, -12.315]</th>\n",
       "      <td>0.000000</td>\n",
       "      <td>0.693147</td>\n",
       "      <td>0.000000</td>\n",
       "      <td>0.000000</td>\n",
       "      <td>0.0</td>\n",
       "      <td>0.000000</td>\n",
       "      <td>0.000000</td>\n",
       "      <td>0.0</td>\n",
       "      <td>0.0</td>\n",
       "      <td>0.000000</td>\n",
       "    </tr>\n",
       "    <tr>\n",
       "      <th>(-12.315, -11.457]</th>\n",
       "      <td>0.000000</td>\n",
       "      <td>0.693147</td>\n",
       "      <td>0.000000</td>\n",
       "      <td>0.000000</td>\n",
       "      <td>0.0</td>\n",
       "      <td>0.000000</td>\n",
       "      <td>0.693147</td>\n",
       "      <td>0.0</td>\n",
       "      <td>0.0</td>\n",
       "      <td>0.693147</td>\n",
       "    </tr>\n",
       "    <tr>\n",
       "      <th>(-11.457, -10.6]</th>\n",
       "      <td>0.000000</td>\n",
       "      <td>0.000000</td>\n",
       "      <td>0.000000</td>\n",
       "      <td>0.000000</td>\n",
       "      <td>0.0</td>\n",
       "      <td>0.000000</td>\n",
       "      <td>0.000000</td>\n",
       "      <td>0.0</td>\n",
       "      <td>0.0</td>\n",
       "      <td>0.000000</td>\n",
       "    </tr>\n",
       "    <tr>\n",
       "      <th>(-10.6, -9.742]</th>\n",
       "      <td>1.609438</td>\n",
       "      <td>0.000000</td>\n",
       "      <td>0.000000</td>\n",
       "      <td>0.000000</td>\n",
       "      <td>0.0</td>\n",
       "      <td>0.000000</td>\n",
       "      <td>0.000000</td>\n",
       "      <td>0.0</td>\n",
       "      <td>0.0</td>\n",
       "      <td>0.000000</td>\n",
       "    </tr>\n",
       "    <tr>\n",
       "      <th>(-9.742, -8.885]</th>\n",
       "      <td>0.693147</td>\n",
       "      <td>9.628393</td>\n",
       "      <td>6.214608</td>\n",
       "      <td>0.000000</td>\n",
       "      <td>0.0</td>\n",
       "      <td>1.098612</td>\n",
       "      <td>0.000000</td>\n",
       "      <td>0.0</td>\n",
       "      <td>0.0</td>\n",
       "      <td>0.000000</td>\n",
       "    </tr>\n",
       "    <tr>\n",
       "      <th>(-8.885, -8.027]</th>\n",
       "      <td>0.000000</td>\n",
       "      <td>9.682779</td>\n",
       "      <td>14.327056</td>\n",
       "      <td>17.686535</td>\n",
       "      <td>0.0</td>\n",
       "      <td>0.000000</td>\n",
       "      <td>0.000000</td>\n",
       "      <td>0.0</td>\n",
       "      <td>0.0</td>\n",
       "      <td>0.000000</td>\n",
       "    </tr>\n",
       "    <tr>\n",
       "      <th>(-8.027, -7.17]</th>\n",
       "      <td>0.000000</td>\n",
       "      <td>4.290459</td>\n",
       "      <td>9.967588</td>\n",
       "      <td>10.985615</td>\n",
       "      <td>0.0</td>\n",
       "      <td>0.000000</td>\n",
       "      <td>0.000000</td>\n",
       "      <td>0.0</td>\n",
       "      <td>0.0</td>\n",
       "      <td>0.000000</td>\n",
       "    </tr>\n",
       "    <tr>\n",
       "      <th>(-7.17, -6.312]</th>\n",
       "      <td>0.000000</td>\n",
       "      <td>0.000000</td>\n",
       "      <td>5.638355</td>\n",
       "      <td>8.833900</td>\n",
       "      <td>0.0</td>\n",
       "      <td>0.000000</td>\n",
       "      <td>0.000000</td>\n",
       "      <td>0.0</td>\n",
       "      <td>0.0</td>\n",
       "      <td>0.000000</td>\n",
       "    </tr>\n",
       "    <tr>\n",
       "      <th>(-6.312, -5.455]</th>\n",
       "      <td>0.000000</td>\n",
       "      <td>0.693147</td>\n",
       "      <td>0.693147</td>\n",
       "      <td>0.000000</td>\n",
       "      <td>0.0</td>\n",
       "      <td>0.693147</td>\n",
       "      <td>0.000000</td>\n",
       "      <td>0.0</td>\n",
       "      <td>0.0</td>\n",
       "      <td>0.000000</td>\n",
       "    </tr>\n",
       "    <tr>\n",
       "      <th>(-5.455, -4.597]</th>\n",
       "      <td>0.693147</td>\n",
       "      <td>0.000000</td>\n",
       "      <td>0.000000</td>\n",
       "      <td>0.000000</td>\n",
       "      <td>0.0</td>\n",
       "      <td>0.000000</td>\n",
       "      <td>0.000000</td>\n",
       "      <td>0.0</td>\n",
       "      <td>0.0</td>\n",
       "      <td>0.000000</td>\n",
       "    </tr>\n",
       "  </tbody>\n",
       "</table>\n",
       "</div>"
      ],
      "text/plain": [
       "Latitude            (36.872, 38.301]  (38.301, 39.716]  (39.716, 41.131]  \\\n",
       "Longitude                                                                  \n",
       "(-13.181, -12.315]          0.000000          0.693147          0.000000   \n",
       "(-12.315, -11.457]          0.000000          0.693147          0.000000   \n",
       "(-11.457, -10.6]            0.000000          0.000000          0.000000   \n",
       "(-10.6, -9.742]             1.609438          0.000000          0.000000   \n",
       "(-9.742, -8.885]            0.693147          9.628393          6.214608   \n",
       "(-8.885, -8.027]            0.000000          9.682779         14.327056   \n",
       "(-8.027, -7.17]             0.000000          4.290459          9.967588   \n",
       "(-7.17, -6.312]             0.000000          0.000000          5.638355   \n",
       "(-6.312, -5.455]            0.000000          0.693147          0.693147   \n",
       "(-5.455, -4.597]            0.693147          0.000000          0.000000   \n",
       "\n",
       "Latitude            (41.131, 42.547]  (42.547, 43.962]  (43.962, 45.377]  \\\n",
       "Longitude                                                                  \n",
       "(-13.181, -12.315]          0.000000               0.0          0.000000   \n",
       "(-12.315, -11.457]          0.000000               0.0          0.000000   \n",
       "(-11.457, -10.6]            0.000000               0.0          0.000000   \n",
       "(-10.6, -9.742]             0.000000               0.0          0.000000   \n",
       "(-9.742, -8.885]            0.000000               0.0          1.098612   \n",
       "(-8.885, -8.027]           17.686535               0.0          0.000000   \n",
       "(-8.027, -7.17]            10.985615               0.0          0.000000   \n",
       "(-7.17, -6.312]             8.833900               0.0          0.000000   \n",
       "(-6.312, -5.455]            0.000000               0.0          0.693147   \n",
       "(-5.455, -4.597]            0.000000               0.0          0.000000   \n",
       "\n",
       "Latitude            (45.377, 46.792]  (46.792, 48.207]  (48.207, 49.622]  \\\n",
       "Longitude                                                                  \n",
       "(-13.181, -12.315]          0.000000               0.0               0.0   \n",
       "(-12.315, -11.457]          0.693147               0.0               0.0   \n",
       "(-11.457, -10.6]            0.000000               0.0               0.0   \n",
       "(-10.6, -9.742]             0.000000               0.0               0.0   \n",
       "(-9.742, -8.885]            0.000000               0.0               0.0   \n",
       "(-8.885, -8.027]            0.000000               0.0               0.0   \n",
       "(-8.027, -7.17]             0.000000               0.0               0.0   \n",
       "(-7.17, -6.312]             0.000000               0.0               0.0   \n",
       "(-6.312, -5.455]            0.000000               0.0               0.0   \n",
       "(-5.455, -4.597]            0.000000               0.0               0.0   \n",
       "\n",
       "Latitude            (49.622, 51.037]  \n",
       "Longitude                             \n",
       "(-13.181, -12.315]          0.000000  \n",
       "(-12.315, -11.457]          0.693147  \n",
       "(-11.457, -10.6]            0.000000  \n",
       "(-10.6, -9.742]             0.000000  \n",
       "(-9.742, -8.885]            0.000000  \n",
       "(-8.885, -8.027]            0.000000  \n",
       "(-8.027, -7.17]             0.000000  \n",
       "(-7.17, -6.312]             0.000000  \n",
       "(-6.312, -5.455]            0.000000  \n",
       "(-5.455, -4.597]            0.000000  "
      ]
     },
     "execution_count": 17,
     "metadata": {},
     "output_type": "execute_result"
    }
   ],
   "source": [
    "mapped_data"
   ]
  },
  {
   "cell_type": "code",
   "execution_count": 18,
   "id": "c304dc8d",
   "metadata": {},
   "outputs": [],
   "source": [
    "import seaborn as sns"
   ]
  },
  {
   "cell_type": "code",
   "execution_count": 19,
   "id": "d51bd650",
   "metadata": {},
   "outputs": [
    {
     "data": {
      "text/plain": [
       "<AxesSubplot:xlabel='Latitude', ylabel='Longitude'>"
      ]
     },
     "execution_count": 19,
     "metadata": {},
     "output_type": "execute_result"
    },
    {
     "data": {
      "image/png": "[encoded data removed]",
      "text/plain": [
       "<Figure size 432x288 with 2 Axes>"
      ]
     },
     "metadata": {
      "needs_background": "light"
     },
     "output_type": "display_data"
    }
   ],
   "source": [
    "sns.heatmap(mapped_data, linewidths = 0.30, annot = True, cmap=sns.cubehelix_palette(as_cmap=True))"
   ]
  },
  {
   "cell_type": "code",
   "execution_count": null,
   "id": "456787db",
   "metadata": {},
   "outputs": [],
   "source": []
  }
 ],
 "metadata": {
  "kernelspec": {
   "display_name": "Python 3 (ipykernel)",
   "language": "python",
   "name": "python3"
  },
  "language_info": {
   "codemirror_mode": {
    "name": "ipython",
    "version": 3
   },
   "file_extension": ".py",
   "mimetype": "text/x-python",
   "name": "python",
   "nbconvert_exporter": "python",
   "pygments_lexer": "ipython3",
   "version": "3.9.5"
  }
 },
 "nbformat": 4,
 "nbformat_minor": 5
}
