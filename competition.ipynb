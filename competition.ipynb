{
 "cells": [
  {
   "cell_type": "code",
   "execution_count": 122,
   "id": "29ddda04",
   "metadata": {},
   "outputs": [],
   "source": [
    "import torch\n",
    "import torchvision\n",
    "import torchvision.transforms as transforms\n",
    "import pandas as pd\n",
    "import numpy as np"
   ]
  },
  {
   "cell_type": "code",
   "execution_count": 4,
   "id": "5a2d9ae2",
   "metadata": {},
   "outputs": [],
   "source": [
    "import warnings\n",
    "warnings.filterwarnings('ignore')"
   ]
  },
  {
   "cell_type": "code",
   "execution_count": 5,
   "id": "34001c8a",
   "metadata": {},
   "outputs": [],
   "source": [
    "train = pd.read_csv('kaggle_data/train.csv')"
   ]
  },
  {
   "cell_type": "code",
   "execution_count": 4,
   "id": "590657eb",
   "metadata": {},
   "outputs": [],
   "source": [
    "train_small = train.iloc[:10000]"
   ]
  },
  {
   "cell_type": "code",
   "execution_count": 68,
   "id": "f9eb79fe",
   "metadata": {},
   "outputs": [],
   "source": [
    "train_small = train.loc[np.random.choice(train.index, size=800000, replace=False)]"
   ]
  },
  {
   "cell_type": "code",
   "execution_count": 69,
   "id": "9bcbfdc1",
   "metadata": {},
   "outputs": [],
   "source": [
    "df = train_small.copy()"
   ]
  },
  {
   "cell_type": "code",
   "execution_count": 70,
   "id": "cae32282",
   "metadata": {},
   "outputs": [],
   "source": [
    "df = df[~df['MISSING_DATA']].drop(columns='MISSING_DATA')"
   ]
  },
  {
   "cell_type": "code",
   "execution_count": null,
   "id": "49cbfb84",
   "metadata": {},
   "outputs": [],
   "source": []
  },
  {
   "cell_type": "code",
   "execution_count": 71,
   "id": "842401d7",
   "metadata": {},
   "outputs": [],
   "source": [
    "# Over every single \n",
    "def polyline_to_trip_duration(polyline):\n",
    "    return max(polyline.count(\"[\") - 2, 0) * 15\n",
    "\n",
    "# This code creates a new column, \"LEN\", in our dataframe. The value is\n",
    "# the (polyline_length - 1) * 15, where polyline_length = count(\"[\") - 1\n",
    "df[\"LEN\"] = df[\"POLYLINE\"].apply(polyline_to_trip_duration)"
   ]
  },
  {
   "cell_type": "code",
   "execution_count": 72,
   "id": "9f6361fc",
   "metadata": {},
   "outputs": [],
   "source": [
    "from datetime import datetime\n",
    "def parse_time(x):\n",
    "    # We are using python's builtin datetime library\n",
    "    # https://docs.python.org/3/library/datetime.html#datetime.date.fromtimestamp\n",
    "\n",
    "    # Each x is essentially a 1 row, 1 column pandas Series\n",
    "    dt = datetime.fromtimestamp(x[\"TIMESTAMP\"])\n",
    "    return dt.year, dt.month, dt.day, dt.hour, dt.weekday()\n",
    "\n",
    "# Because we are assigning multiple values at a time, we need to \"expand\" our computed (year, month, day, hour, weekday) tuples on \n",
    "# the column axis, or axis 1\n",
    "# https://pandas.pydata.org/docs/reference/api/pandas.DataFrame.apply.html\n",
    "df[[\"YR\", \"MON\", \"DAY\", \"HR\", \"WK\"]] = df[[\"TIMESTAMP\"]].apply(parse_time, axis=1, result_type=\"expand\")"
   ]
  },
  {
   "cell_type": "code",
   "execution_count": 73,
   "id": "37d2249c",
   "metadata": {},
   "outputs": [],
   "source": [
    "mapper = {'A': 1, 'B': 2, 'C': 3}"
   ]
  },
  {
   "cell_type": "code",
   "execution_count": 74,
   "id": "1389c224",
   "metadata": {},
   "outputs": [],
   "source": [
    "df['CALL_TYPE'] = df['CALL_TYPE'].replace(mapper)"
   ]
  },
  {
   "cell_type": "code",
   "execution_count": 75,
   "id": "cc148491",
   "metadata": {},
   "outputs": [],
   "source": [
    "metadata = pd.read_csv('metaData_taxistandsID_name_GPSlocation.csv')"
   ]
  },
  {
   "cell_type": "code",
   "execution_count": 76,
   "id": "d09d0197",
   "metadata": {},
   "outputs": [],
   "source": [
    "metadata['coords'] = '[' + metadata['Longitude'].astype(str) + ', ' + metadata['Latitude'].astype(str) + ']'"
   ]
  },
  {
   "cell_type": "code",
   "execution_count": 77,
   "id": "50e0e5a2",
   "metadata": {},
   "outputs": [],
   "source": [
    "# df['START_COORD'] = df['POLYLINE'].apply(lambda x: eval(x)).str[0]"
   ]
  },
  {
   "cell_type": "code",
   "execution_count": 78,
   "id": "7933b514",
   "metadata": {
    "scrolled": true
   },
   "outputs": [],
   "source": [
    "metadata['Longitude'][40] = metadata['Latitude'][40][12:]\n",
    "metadata['Latitude'][40] = metadata['Latitude'][40][0:12]"
   ]
  },
  {
   "cell_type": "code",
   "execution_count": 79,
   "id": "6e4e2d9d",
   "metadata": {},
   "outputs": [],
   "source": [
    "#df['ORIGIN_STAND'] = df['ORIGIN_STAND'].fillna(-1)"
   ]
  },
  {
   "cell_type": "code",
   "execution_count": 80,
   "id": "7ef797b0",
   "metadata": {},
   "outputs": [],
   "source": [
    "df.loc[df['CALL_TYPE'] == 1, 'ORIGIN_STAND'] = 0"
   ]
  },
  {
   "cell_type": "code",
   "execution_count": 81,
   "id": "6dab5aff",
   "metadata": {},
   "outputs": [],
   "source": [
    "df.loc[df['CALL_TYPE'] == 3, 'ORIGIN_STAND'] = -1"
   ]
  },
  {
   "cell_type": "code",
   "execution_count": 82,
   "id": "45aa9591",
   "metadata": {},
   "outputs": [],
   "source": [
    "#df.groupby('CALL_TYPE')['LEN'].mean().plot(kind='bar', ylabel='MEAN LEN')"
   ]
  },
  {
   "cell_type": "code",
   "execution_count": 83,
   "id": "d9376f47",
   "metadata": {},
   "outputs": [],
   "source": [
    "#driver_route_list = list(df.sort_values(by=['TAXI_ID', 'TIMESTAMP']).reset_index(drop=True).groupby('TAXI_ID')['ORIGIN_STAND'])"
   ]
  },
  {
   "cell_type": "code",
   "execution_count": 84,
   "id": "3835842a",
   "metadata": {},
   "outputs": [],
   "source": [
    "#driver_routes = {t[0]: list(t[1]) for t in driver_route_list}#"
   ]
  },
  {
   "cell_type": "code",
   "execution_count": 85,
   "id": "5ad113d6",
   "metadata": {},
   "outputs": [],
   "source": [
    "def find_closest_city(coords):\n",
    "    #pass in START_COORDS\n",
    "    if isinstance(coords, float):\n",
    "        return None\n",
    "    lat_dif = metadata['Latitude'].astype(float) - coords[1]\n",
    "    long_dif = metadata['Longitude'].astype(float) - coords[0]\n",
    "    distance = (lat_dif**2 + long_dif**2)**(1/2)\n",
    "    return distance.idxmin() + 1"
   ]
  },
  {
   "cell_type": "code",
   "execution_count": 86,
   "id": "013045cc",
   "metadata": {},
   "outputs": [],
   "source": [
    "#df['CITY_ID'] = df['START_COORD'].apply(lambda x: find_closest_city(x))"
   ]
  },
  {
   "cell_type": "code",
   "execution_count": 87,
   "id": "acf70233",
   "metadata": {},
   "outputs": [],
   "source": [
    "from matplotlib.pyplot import figure"
   ]
  },
  {
   "cell_type": "code",
   "execution_count": 88,
   "id": "6cee5fff",
   "metadata": {
    "scrolled": false
   },
   "outputs": [],
   "source": [
    "# import matplotlib.pyplot as plt\n",
    "# plt.rcParams[\"figure.figsize\"] = (20,10)\n",
    "\n",
    "# df.groupby('ORIGIN_STAND')['LEN'].mean().plot(kind='barh')"
   ]
  },
  {
   "cell_type": "code",
   "execution_count": 89,
   "id": "503687a4",
   "metadata": {},
   "outputs": [],
   "source": [
    "df['DATESTAMP'] = pd.to_datetime(df['TIMESTAMP'], unit='s')"
   ]
  },
  {
   "cell_type": "code",
   "execution_count": 90,
   "id": "ed323ff8",
   "metadata": {},
   "outputs": [],
   "source": [
    "df['DAY_OF_WEEK'] = df['DATESTAMP'].transform(lambda x: str.upper(x.day_name()))"
   ]
  },
  {
   "cell_type": "code",
   "execution_count": 91,
   "id": "043f3744",
   "metadata": {},
   "outputs": [],
   "source": [
    "for day in df['DAY_OF_WEEK'].unique():\n",
    "    df[day] = (df['DAY_OF_WEEK'] == day).astype(int)"
   ]
  },
  {
   "cell_type": "code",
   "execution_count": 92,
   "id": "4817a8c1",
   "metadata": {},
   "outputs": [],
   "source": [
    "# building training dataset"
   ]
  },
  {
   "cell_type": "code",
   "execution_count": 93,
   "id": "9b05fa7b",
   "metadata": {},
   "outputs": [],
   "source": [
    "train_df = df[['CALL_TYPE', 'ORIGIN_STAND', 'MON', 'DAY_OF_WEEK', 'HR']].copy()"
   ]
  },
  {
   "cell_type": "code",
   "execution_count": 94,
   "id": "4934e071",
   "metadata": {},
   "outputs": [],
   "source": [
    "for call_type in train_df['CALL_TYPE'].unique():\n",
    "    train_df['CALL_TYPE' + ': ' + str(call_type)] = (train_df['CALL_TYPE'] == call_type).astype(int)\n",
    "        \n",
    "# excludes city 63 to prevent multicollinearity\n",
    "for origin_id in list(range(-1, 63)):\n",
    "    train_df['ORIGIN_STAND: ' + str(origin_id)] = (train_df['ORIGIN_STAND'] == origin_id).astype(int)\n",
    "\n",
    "# exclude December to prevent multicollinearity\n",
    "for mon in list(range(1,12)):\n",
    "    train_df['MON: ' + str(mon)] = (train_df['MON'] == mon).astype(int)\n",
    "\n",
    "# all 0 = sunday\n",
    "for day in ['MONDAY', 'TUESDAY', 'WEDNESDAY', 'THURSDAY', 'FRIDAY', 'SATURDAY']:\n",
    "    train_df['DAY_OF_WEEK: ' + day] = (train_df['DAY_OF_WEEK'] == day).astype(int)"
   ]
  },
  {
   "cell_type": "code",
   "execution_count": 95,
   "id": "6e1069eb",
   "metadata": {},
   "outputs": [
    {
     "data": {
      "text/html": [
       "<div>\n",
       "<style scoped>\n",
       "    .dataframe tbody tr th:only-of-type {\n",
       "        vertical-align: middle;\n",
       "    }\n",
       "\n",
       "    .dataframe tbody tr th {\n",
       "        vertical-align: top;\n",
       "    }\n",
       "\n",
       "    .dataframe thead th {\n",
       "        text-align: right;\n",
       "    }\n",
       "</style>\n",
       "<table border=\"1\" class=\"dataframe\">\n",
       "  <thead>\n",
       "    <tr style=\"text-align: right;\">\n",
       "      <th></th>\n",
       "      <th>CALL_TYPE</th>\n",
       "      <th>ORIGIN_STAND</th>\n",
       "      <th>MON</th>\n",
       "      <th>DAY_OF_WEEK</th>\n",
       "      <th>HR</th>\n",
       "      <th>CALL_TYPE: 1</th>\n",
       "      <th>CALL_TYPE: 3</th>\n",
       "      <th>CALL_TYPE: 2</th>\n",
       "      <th>ORIGIN_STAND: -1</th>\n",
       "      <th>ORIGIN_STAND: 0</th>\n",
       "      <th>...</th>\n",
       "      <th>MON: 8</th>\n",
       "      <th>MON: 9</th>\n",
       "      <th>MON: 10</th>\n",
       "      <th>MON: 11</th>\n",
       "      <th>DAY_OF_WEEK: MONDAY</th>\n",
       "      <th>DAY_OF_WEEK: TUESDAY</th>\n",
       "      <th>DAY_OF_WEEK: WEDNESDAY</th>\n",
       "      <th>DAY_OF_WEEK: THURSDAY</th>\n",
       "      <th>DAY_OF_WEEK: FRIDAY</th>\n",
       "      <th>DAY_OF_WEEK: SATURDAY</th>\n",
       "    </tr>\n",
       "  </thead>\n",
       "  <tbody>\n",
       "    <tr>\n",
       "      <th>1479628</th>\n",
       "      <td>1</td>\n",
       "      <td>0.0</td>\n",
       "      <td>5</td>\n",
       "      <td>FRIDAY</td>\n",
       "      <td>12</td>\n",
       "      <td>1</td>\n",
       "      <td>0</td>\n",
       "      <td>0</td>\n",
       "      <td>0</td>\n",
       "      <td>1</td>\n",
       "      <td>...</td>\n",
       "      <td>0</td>\n",
       "      <td>0</td>\n",
       "      <td>0</td>\n",
       "      <td>0</td>\n",
       "      <td>0</td>\n",
       "      <td>0</td>\n",
       "      <td>0</td>\n",
       "      <td>0</td>\n",
       "      <td>1</td>\n",
       "      <td>0</td>\n",
       "    </tr>\n",
       "    <tr>\n",
       "      <th>1426923</th>\n",
       "      <td>3</td>\n",
       "      <td>-1.0</td>\n",
       "      <td>5</td>\n",
       "      <td>TUESDAY</td>\n",
       "      <td>14</td>\n",
       "      <td>0</td>\n",
       "      <td>1</td>\n",
       "      <td>0</td>\n",
       "      <td>1</td>\n",
       "      <td>0</td>\n",
       "      <td>...</td>\n",
       "      <td>0</td>\n",
       "      <td>0</td>\n",
       "      <td>0</td>\n",
       "      <td>0</td>\n",
       "      <td>0</td>\n",
       "      <td>1</td>\n",
       "      <td>0</td>\n",
       "      <td>0</td>\n",
       "      <td>0</td>\n",
       "      <td>0</td>\n",
       "    </tr>\n",
       "    <tr>\n",
       "      <th>613252</th>\n",
       "      <td>3</td>\n",
       "      <td>-1.0</td>\n",
       "      <td>11</td>\n",
       "      <td>SATURDAY</td>\n",
       "      <td>3</td>\n",
       "      <td>0</td>\n",
       "      <td>1</td>\n",
       "      <td>0</td>\n",
       "      <td>1</td>\n",
       "      <td>0</td>\n",
       "      <td>...</td>\n",
       "      <td>0</td>\n",
       "      <td>0</td>\n",
       "      <td>0</td>\n",
       "      <td>1</td>\n",
       "      <td>0</td>\n",
       "      <td>0</td>\n",
       "      <td>0</td>\n",
       "      <td>0</td>\n",
       "      <td>0</td>\n",
       "      <td>1</td>\n",
       "    </tr>\n",
       "    <tr>\n",
       "      <th>1553683</th>\n",
       "      <td>3</td>\n",
       "      <td>-1.0</td>\n",
       "      <td>5</td>\n",
       "      <td>SATURDAY</td>\n",
       "      <td>8</td>\n",
       "      <td>0</td>\n",
       "      <td>1</td>\n",
       "      <td>0</td>\n",
       "      <td>1</td>\n",
       "      <td>0</td>\n",
       "      <td>...</td>\n",
       "      <td>0</td>\n",
       "      <td>0</td>\n",
       "      <td>0</td>\n",
       "      <td>0</td>\n",
       "      <td>0</td>\n",
       "      <td>0</td>\n",
       "      <td>0</td>\n",
       "      <td>0</td>\n",
       "      <td>0</td>\n",
       "      <td>1</td>\n",
       "    </tr>\n",
       "    <tr>\n",
       "      <th>1218007</th>\n",
       "      <td>3</td>\n",
       "      <td>-1.0</td>\n",
       "      <td>3</td>\n",
       "      <td>SUNDAY</td>\n",
       "      <td>2</td>\n",
       "      <td>0</td>\n",
       "      <td>1</td>\n",
       "      <td>0</td>\n",
       "      <td>1</td>\n",
       "      <td>0</td>\n",
       "      <td>...</td>\n",
       "      <td>0</td>\n",
       "      <td>0</td>\n",
       "      <td>0</td>\n",
       "      <td>0</td>\n",
       "      <td>0</td>\n",
       "      <td>0</td>\n",
       "      <td>0</td>\n",
       "      <td>0</td>\n",
       "      <td>0</td>\n",
       "      <td>0</td>\n",
       "    </tr>\n",
       "    <tr>\n",
       "      <th>...</th>\n",
       "      <td>...</td>\n",
       "      <td>...</td>\n",
       "      <td>...</td>\n",
       "      <td>...</td>\n",
       "      <td>...</td>\n",
       "      <td>...</td>\n",
       "      <td>...</td>\n",
       "      <td>...</td>\n",
       "      <td>...</td>\n",
       "      <td>...</td>\n",
       "      <td>...</td>\n",
       "      <td>...</td>\n",
       "      <td>...</td>\n",
       "      <td>...</td>\n",
       "      <td>...</td>\n",
       "      <td>...</td>\n",
       "      <td>...</td>\n",
       "      <td>...</td>\n",
       "      <td>...</td>\n",
       "      <td>...</td>\n",
       "      <td>...</td>\n",
       "    </tr>\n",
       "    <tr>\n",
       "      <th>1361784</th>\n",
       "      <td>3</td>\n",
       "      <td>-1.0</td>\n",
       "      <td>4</td>\n",
       "      <td>WEDNESDAY</td>\n",
       "      <td>16</td>\n",
       "      <td>0</td>\n",
       "      <td>1</td>\n",
       "      <td>0</td>\n",
       "      <td>1</td>\n",
       "      <td>0</td>\n",
       "      <td>...</td>\n",
       "      <td>0</td>\n",
       "      <td>0</td>\n",
       "      <td>0</td>\n",
       "      <td>0</td>\n",
       "      <td>0</td>\n",
       "      <td>0</td>\n",
       "      <td>1</td>\n",
       "      <td>0</td>\n",
       "      <td>0</td>\n",
       "      <td>0</td>\n",
       "    </tr>\n",
       "    <tr>\n",
       "      <th>173706</th>\n",
       "      <td>2</td>\n",
       "      <td>42.0</td>\n",
       "      <td>8</td>\n",
       "      <td>WEDNESDAY</td>\n",
       "      <td>19</td>\n",
       "      <td>0</td>\n",
       "      <td>0</td>\n",
       "      <td>1</td>\n",
       "      <td>0</td>\n",
       "      <td>0</td>\n",
       "      <td>...</td>\n",
       "      <td>1</td>\n",
       "      <td>0</td>\n",
       "      <td>0</td>\n",
       "      <td>0</td>\n",
       "      <td>0</td>\n",
       "      <td>0</td>\n",
       "      <td>1</td>\n",
       "      <td>0</td>\n",
       "      <td>0</td>\n",
       "      <td>0</td>\n",
       "    </tr>\n",
       "    <tr>\n",
       "      <th>1239954</th>\n",
       "      <td>3</td>\n",
       "      <td>-1.0</td>\n",
       "      <td>3</td>\n",
       "      <td>FRIDAY</td>\n",
       "      <td>7</td>\n",
       "      <td>0</td>\n",
       "      <td>1</td>\n",
       "      <td>0</td>\n",
       "      <td>1</td>\n",
       "      <td>0</td>\n",
       "      <td>...</td>\n",
       "      <td>0</td>\n",
       "      <td>0</td>\n",
       "      <td>0</td>\n",
       "      <td>0</td>\n",
       "      <td>0</td>\n",
       "      <td>0</td>\n",
       "      <td>0</td>\n",
       "      <td>0</td>\n",
       "      <td>1</td>\n",
       "      <td>0</td>\n",
       "    </tr>\n",
       "    <tr>\n",
       "      <th>989284</th>\n",
       "      <td>1</td>\n",
       "      <td>0.0</td>\n",
       "      <td>2</td>\n",
       "      <td>SATURDAY</td>\n",
       "      <td>0</td>\n",
       "      <td>1</td>\n",
       "      <td>0</td>\n",
       "      <td>0</td>\n",
       "      <td>0</td>\n",
       "      <td>1</td>\n",
       "      <td>...</td>\n",
       "      <td>0</td>\n",
       "      <td>0</td>\n",
       "      <td>0</td>\n",
       "      <td>0</td>\n",
       "      <td>0</td>\n",
       "      <td>0</td>\n",
       "      <td>0</td>\n",
       "      <td>0</td>\n",
       "      <td>0</td>\n",
       "      <td>1</td>\n",
       "    </tr>\n",
       "    <tr>\n",
       "      <th>1477792</th>\n",
       "      <td>1</td>\n",
       "      <td>0.0</td>\n",
       "      <td>5</td>\n",
       "      <td>FRIDAY</td>\n",
       "      <td>4</td>\n",
       "      <td>1</td>\n",
       "      <td>0</td>\n",
       "      <td>0</td>\n",
       "      <td>0</td>\n",
       "      <td>1</td>\n",
       "      <td>...</td>\n",
       "      <td>0</td>\n",
       "      <td>0</td>\n",
       "      <td>0</td>\n",
       "      <td>0</td>\n",
       "      <td>0</td>\n",
       "      <td>0</td>\n",
       "      <td>0</td>\n",
       "      <td>0</td>\n",
       "      <td>1</td>\n",
       "      <td>0</td>\n",
       "    </tr>\n",
       "  </tbody>\n",
       "</table>\n",
       "<p>799994 rows × 89 columns</p>\n",
       "</div>"
      ],
      "text/plain": [
       "         CALL_TYPE  ORIGIN_STAND  MON DAY_OF_WEEK  HR  CALL_TYPE: 1  \\\n",
       "1479628          1           0.0    5      FRIDAY  12             1   \n",
       "1426923          3          -1.0    5     TUESDAY  14             0   \n",
       "613252           3          -1.0   11    SATURDAY   3             0   \n",
       "1553683          3          -1.0    5    SATURDAY   8             0   \n",
       "1218007          3          -1.0    3      SUNDAY   2             0   \n",
       "...            ...           ...  ...         ...  ..           ...   \n",
       "1361784          3          -1.0    4   WEDNESDAY  16             0   \n",
       "173706           2          42.0    8   WEDNESDAY  19             0   \n",
       "1239954          3          -1.0    3      FRIDAY   7             0   \n",
       "989284           1           0.0    2    SATURDAY   0             1   \n",
       "1477792          1           0.0    5      FRIDAY   4             1   \n",
       "\n",
       "         CALL_TYPE: 3  CALL_TYPE: 2  ORIGIN_STAND: -1  ORIGIN_STAND: 0  ...  \\\n",
       "1479628             0             0                 0                1  ...   \n",
       "1426923             1             0                 1                0  ...   \n",
       "613252              1             0                 1                0  ...   \n",
       "1553683             1             0                 1                0  ...   \n",
       "1218007             1             0                 1                0  ...   \n",
       "...               ...           ...               ...              ...  ...   \n",
       "1361784             1             0                 1                0  ...   \n",
       "173706              0             1                 0                0  ...   \n",
       "1239954             1             0                 1                0  ...   \n",
       "989284              0             0                 0                1  ...   \n",
       "1477792             0             0                 0                1  ...   \n",
       "\n",
       "         MON: 8  MON: 9  MON: 10  MON: 11  DAY_OF_WEEK: MONDAY  \\\n",
       "1479628       0       0        0        0                    0   \n",
       "1426923       0       0        0        0                    0   \n",
       "613252        0       0        0        1                    0   \n",
       "1553683       0       0        0        0                    0   \n",
       "1218007       0       0        0        0                    0   \n",
       "...         ...     ...      ...      ...                  ...   \n",
       "1361784       0       0        0        0                    0   \n",
       "173706        1       0        0        0                    0   \n",
       "1239954       0       0        0        0                    0   \n",
       "989284        0       0        0        0                    0   \n",
       "1477792       0       0        0        0                    0   \n",
       "\n",
       "         DAY_OF_WEEK: TUESDAY  DAY_OF_WEEK: WEDNESDAY  DAY_OF_WEEK: THURSDAY  \\\n",
       "1479628                     0                       0                      0   \n",
       "1426923                     1                       0                      0   \n",
       "613252                      0                       0                      0   \n",
       "1553683                     0                       0                      0   \n",
       "1218007                     0                       0                      0   \n",
       "...                       ...                     ...                    ...   \n",
       "1361784                     0                       1                      0   \n",
       "173706                      0                       1                      0   \n",
       "1239954                     0                       0                      0   \n",
       "989284                      0                       0                      0   \n",
       "1477792                     0                       0                      0   \n",
       "\n",
       "         DAY_OF_WEEK: FRIDAY  DAY_OF_WEEK: SATURDAY  \n",
       "1479628                    1                      0  \n",
       "1426923                    0                      0  \n",
       "613252                     0                      1  \n",
       "1553683                    0                      1  \n",
       "1218007                    0                      0  \n",
       "...                      ...                    ...  \n",
       "1361784                    0                      0  \n",
       "173706                     0                      0  \n",
       "1239954                    1                      0  \n",
       "989284                     0                      1  \n",
       "1477792                    1                      0  \n",
       "\n",
       "[799994 rows x 89 columns]"
      ]
     },
     "execution_count": 95,
     "metadata": {},
     "output_type": "execute_result"
    }
   ],
   "source": [
    "train_df"
   ]
  },
  {
   "cell_type": "code",
   "execution_count": 96,
   "id": "dae4380e",
   "metadata": {},
   "outputs": [],
   "source": [
    "train_df = train_df.iloc[:, 4:].sort_index(axis=1)"
   ]
  },
  {
   "cell_type": "code",
   "execution_count": 97,
   "id": "18e0b650",
   "metadata": {},
   "outputs": [],
   "source": [
    "train_df = train_df.reset_index(drop=True)"
   ]
  },
  {
   "cell_type": "code",
   "execution_count": 98,
   "id": "2ea8d9c9",
   "metadata": {},
   "outputs": [],
   "source": [
    "# append col of 1s, intercept\n",
    "train_df = pd.concat([train_df, pd.Series(np.repeat(1, train_df.shape[0]))], axis=1)"
   ]
  },
  {
   "cell_type": "code",
   "execution_count": 99,
   "id": "86d13bcb",
   "metadata": {},
   "outputs": [],
   "source": [
    "X_train = np.array(train_df)"
   ]
  },
  {
   "cell_type": "code",
   "execution_count": 100,
   "id": "210094ce",
   "metadata": {},
   "outputs": [],
   "source": [
    "y_train = df['LEN']"
   ]
  },
  {
   "cell_type": "code",
   "execution_count": 101,
   "id": "1b974b07",
   "metadata": {},
   "outputs": [
    {
     "data": {
      "text/plain": [
       "(799994,)"
      ]
     },
     "execution_count": 101,
     "metadata": {},
     "output_type": "execute_result"
    }
   ],
   "source": [
    "y_train.shape"
   ]
  },
  {
   "cell_type": "code",
   "execution_count": 102,
   "id": "5462de73",
   "metadata": {},
   "outputs": [],
   "source": [
    "regularizer = .01"
   ]
  },
  {
   "cell_type": "code",
   "execution_count": 103,
   "id": "56e84f71",
   "metadata": {},
   "outputs": [],
   "source": [
    "w = np.linalg.inv(X_train.T @ X_train + regularizer * np.eye((X_train.T@X_train).shape[0])) @ X_train.T @ y_train"
   ]
  },
  {
   "cell_type": "code",
   "execution_count": 104,
   "id": "c86a903b",
   "metadata": {},
   "outputs": [
    {
     "data": {
      "text/plain": [
       "0.7591508512968447"
      ]
     },
     "execution_count": 104,
     "metadata": {},
     "output_type": "execute_result"
    }
   ],
   "source": [
    "train_MSE = (1/len(y_train))*(sum((w @ X_train.T - y_train)**2))**(1/2)\n",
    "train_MSE"
   ]
  },
  {
   "cell_type": "code",
   "execution_count": 105,
   "id": "f361e3a4",
   "metadata": {},
   "outputs": [],
   "source": [
    "test = pd.read_csv('kaggle_data/test_public.csv')"
   ]
  },
  {
   "cell_type": "code",
   "execution_count": 106,
   "id": "b19d48f2",
   "metadata": {},
   "outputs": [],
   "source": [
    "test['CALL_TYPE'] = test['CALL_TYPE'].replace(mapper)"
   ]
  },
  {
   "cell_type": "code",
   "execution_count": 107,
   "id": "3393d30c",
   "metadata": {},
   "outputs": [],
   "source": [
    "test.loc[test['CALL_TYPE'] == 1, 'ORIGIN_STAND'] = 0"
   ]
  },
  {
   "cell_type": "code",
   "execution_count": 108,
   "id": "5f75222d",
   "metadata": {},
   "outputs": [],
   "source": [
    "test.loc[test['CALL_TYPE'] == 3, 'ORIGIN_STAND'] = -1"
   ]
  },
  {
   "cell_type": "code",
   "execution_count": 109,
   "id": "3c6c396e",
   "metadata": {},
   "outputs": [],
   "source": [
    "from datetime import datetime\n",
    "def parse_time(x):\n",
    "    # We are using python's builtin datetime library\n",
    "    # https://docs.python.org/3/library/datetime.html#datetime.date.fromtimestamp\n",
    "\n",
    "    # Each x is essentially a 1 row, 1 column pandas Series\n",
    "    dt = datetime.fromtimestamp(x[\"TIMESTAMP\"])\n",
    "    return dt.year, dt.month, dt.day, dt.hour, dt.weekday()\n",
    "\n",
    "# Because we are assigning multiple values at a time, we need to \"expand\" our computed (year, month, day, hour, weekday) tuples on \n",
    "# the column axis, or axis 1\n",
    "# https://pandas.pydata.org/docs/reference/api/pandas.DataFrame.apply.html\n",
    "test[[\"YR\", \"MON\", \"DAY\", \"HR\", \"WK\"]] = test[[\"TIMESTAMP\"]].apply(parse_time, axis=1, result_type=\"expand\")"
   ]
  },
  {
   "cell_type": "code",
   "execution_count": 110,
   "id": "75f131e3",
   "metadata": {},
   "outputs": [],
   "source": [
    "test['DATESTAMP'] = pd.to_datetime(test['TIMESTAMP'], unit='s')"
   ]
  },
  {
   "cell_type": "code",
   "execution_count": 111,
   "id": "c67620ec",
   "metadata": {},
   "outputs": [],
   "source": [
    "test['DAY_OF_WEEK'] = test['DATESTAMP'].transform(lambda x: str.upper(x.day_name()))"
   ]
  },
  {
   "cell_type": "code",
   "execution_count": 112,
   "id": "ffee5351",
   "metadata": {},
   "outputs": [],
   "source": [
    "test_df = test[['CALL_TYPE', 'ORIGIN_STAND', 'MON', 'DAY_OF_WEEK', 'HR']].copy()"
   ]
  },
  {
   "cell_type": "code",
   "execution_count": 113,
   "id": "73097fd1",
   "metadata": {
    "scrolled": true
   },
   "outputs": [],
   "source": [
    "for call_type in test_df['CALL_TYPE'].unique():\n",
    "    test_df['CALL_TYPE' + ': ' + str(call_type)] = (test_df['CALL_TYPE'] == call_type).astype(int)\n",
    "        \n",
    "# excludes city 63 to prevent multicollinearity\n",
    "for origin_id in list(range(-1, 63)):\n",
    "    test_df['ORIGIN_STAND: ' + str(origin_id)] = (test_df['ORIGIN_STAND'] == origin_id).astype(int)\n",
    "\n",
    "# exclude December to prevent multicollinearity\n",
    "for mon in list(range(1,12)):\n",
    "    test_df['MON: ' + str(mon)] = (test_df['MON'] == mon).astype(int)\n",
    "\n",
    "# all 0 = sunday\n",
    "for day in ['MONDAY', 'TUESDAY', 'WEDNESDAY', 'THURSDAY', 'FRIDAY', 'SATURDAY']:\n",
    "    test_df['DAY_OF_WEEK: ' + day] = (test_df['DAY_OF_WEEK'] == day).astype(int)  "
   ]
  },
  {
   "cell_type": "code",
   "execution_count": 114,
   "id": "f14097d6",
   "metadata": {},
   "outputs": [],
   "source": [
    "X_test = test_df.iloc[:, 4:].sort_index(axis=1)"
   ]
  },
  {
   "cell_type": "code",
   "execution_count": 115,
   "id": "9e718e93",
   "metadata": {},
   "outputs": [],
   "source": [
    "# append col of 1s, intercept\n",
    "X_test = pd.concat([X_test, pd.Series(np.repeat(1, X_test.shape[0]))], axis=1)"
   ]
  },
  {
   "cell_type": "code",
   "execution_count": 116,
   "id": "c3bd80da",
   "metadata": {},
   "outputs": [],
   "source": [
    "X_test = np.array(X_test)"
   ]
  },
  {
   "cell_type": "code",
   "execution_count": null,
   "id": "2c40e73f",
   "metadata": {},
   "outputs": [],
   "source": []
  },
  {
   "cell_type": "code",
   "execution_count": 117,
   "id": "cb472b16",
   "metadata": {},
   "outputs": [],
   "source": [
    "submission = pd.DataFrame(np.dot(X_test, w))"
   ]
  },
  {
   "cell_type": "code",
   "execution_count": 118,
   "id": "0cde3e9b",
   "metadata": {},
   "outputs": [],
   "source": [
    "submission.columns = ['TRAVEL_TIME']"
   ]
  },
  {
   "cell_type": "code",
   "execution_count": 119,
   "id": "f017aeeb",
   "metadata": {},
   "outputs": [],
   "source": [
    "submission.index = test['TRIP_ID']"
   ]
  },
  {
   "cell_type": "code",
   "execution_count": 120,
   "id": "32fa2125",
   "metadata": {},
   "outputs": [
    {
     "data": {
      "text/html": [
       "<div>\n",
       "<style scoped>\n",
       "    .dataframe tbody tr th:only-of-type {\n",
       "        vertical-align: middle;\n",
       "    }\n",
       "\n",
       "    .dataframe tbody tr th {\n",
       "        vertical-align: top;\n",
       "    }\n",
       "\n",
       "    .dataframe thead th {\n",
       "        text-align: right;\n",
       "    }\n",
       "</style>\n",
       "<table border=\"1\" class=\"dataframe\">\n",
       "  <thead>\n",
       "    <tr style=\"text-align: right;\">\n",
       "      <th></th>\n",
       "      <th>TRAVEL_TIME</th>\n",
       "    </tr>\n",
       "    <tr>\n",
       "      <th>TRIP_ID</th>\n",
       "      <th></th>\n",
       "    </tr>\n",
       "  </thead>\n",
       "  <tbody>\n",
       "    <tr>\n",
       "      <th>T1</th>\n",
       "      <td>767.506917</td>\n",
       "    </tr>\n",
       "    <tr>\n",
       "      <th>T2</th>\n",
       "      <td>651.234160</td>\n",
       "    </tr>\n",
       "    <tr>\n",
       "      <th>T3</th>\n",
       "      <td>767.506917</td>\n",
       "    </tr>\n",
       "    <tr>\n",
       "      <th>T4</th>\n",
       "      <td>622.325896</td>\n",
       "    </tr>\n",
       "    <tr>\n",
       "      <th>T5</th>\n",
       "      <td>690.877603</td>\n",
       "    </tr>\n",
       "    <tr>\n",
       "      <th>...</th>\n",
       "      <td>...</td>\n",
       "    </tr>\n",
       "    <tr>\n",
       "      <th>T323</th>\n",
       "      <td>680.010492</td>\n",
       "    </tr>\n",
       "    <tr>\n",
       "      <th>T324</th>\n",
       "      <td>567.429716</td>\n",
       "    </tr>\n",
       "    <tr>\n",
       "      <th>T325</th>\n",
       "      <td>720.052345</td>\n",
       "    </tr>\n",
       "    <tr>\n",
       "      <th>T326</th>\n",
       "      <td>680.010492</td>\n",
       "    </tr>\n",
       "    <tr>\n",
       "      <th>T327</th>\n",
       "      <td>680.010492</td>\n",
       "    </tr>\n",
       "  </tbody>\n",
       "</table>\n",
       "<p>320 rows × 1 columns</p>\n",
       "</div>"
      ],
      "text/plain": [
       "         TRAVEL_TIME\n",
       "TRIP_ID             \n",
       "T1        767.506917\n",
       "T2        651.234160\n",
       "T3        767.506917\n",
       "T4        622.325896\n",
       "T5        690.877603\n",
       "...              ...\n",
       "T323      680.010492\n",
       "T324      567.429716\n",
       "T325      720.052345\n",
       "T326      680.010492\n",
       "T327      680.010492\n",
       "\n",
       "[320 rows x 1 columns]"
      ]
     },
     "execution_count": 120,
     "metadata": {},
     "output_type": "execute_result"
    }
   ],
   "source": [
    "submission"
   ]
  },
  {
   "cell_type": "code",
   "execution_count": 121,
   "id": "43d8e703",
   "metadata": {},
   "outputs": [],
   "source": [
    "submission.to_csv('submission.csv')\n"
   ]
  },
  {
   "cell_type": "code",
   "execution_count": null,
   "id": "1c39bf33",
   "metadata": {},
   "outputs": [],
   "source": []
  }
 ],
 "metadata": {
  "kernelspec": {
   "display_name": "Python 3 (clean)",
   "language": "python",
   "name": "python3_clean"
  },
  "language_info": {
   "codemirror_mode": {
    "name": "ipython",
    "version": 3
   },
   "file_extension": ".py",
   "mimetype": "text/x-python",
   "name": "python",
   "nbconvert_exporter": "python",
   "pygments_lexer": "ipython3",
   "version": "3.9.5"
  }
 },
 "nbformat": 4,
 "nbformat_minor": 5
}
