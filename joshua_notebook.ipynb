{
 "cells": [
  {
   "cell_type": "code",
   "execution_count": 1,
   "id": "18417b18",
   "metadata": {},
   "outputs": [],
   "source": [
    "import torch\n",
    "import torchvision\n",
    "import pandas as pd\n",
    "import torchvision.transforms as transforms\n",
    "import torch.nn as nn\n",
    "import torch.nn.functional as F\n",
    "import numpy as np\n",
    "import torch.optim as optim\n",
    "import tqdm \n",
    "import copy\n",
    "import os\n",
    "import matplotlib.pyplot as plt\n",
    "from sklearn.preprocessing import OneHotEncoder\n",
    "import re"
   ]
  },
  {
   "cell_type": "code",
   "execution_count": 2,
   "id": "d9d63f9c",
   "metadata": {},
   "outputs": [],
   "source": [
    "train = pd.read_csv('train.csv')\n",
    "test = pd.read_csv('test.csv')"
   ]
  },
  {
   "cell_type": "code",
   "execution_count": 3,
   "id": "8abbb3d3",
   "metadata": {},
   "outputs": [],
   "source": [
    "def polyline_to_trip_duration(polyline):\n",
    "    return max(polyline.count(\"[\") - 2, 0) * 15\n",
    "\n",
    "train[\"LEN\"] = train[\"POLYLINE\"].apply(polyline_to_trip_duration)"
   ]
  },
  {
   "cell_type": "code",
   "execution_count": 5,
   "id": "b6e43a46",
   "metadata": {},
   "outputs": [],
   "source": [
    "train = train.sort_values('TIMESTAMP')"
   ]
  },
  {
   "cell_type": "code",
   "execution_count": 6,
   "id": "45ae9b83",
   "metadata": {},
   "outputs": [
    {
     "data": {
      "text/html": [
       "<div>\n",
       "<style scoped>\n",
       "    .dataframe tbody tr th:only-of-type {\n",
       "        vertical-align: middle;\n",
       "    }\n",
       "\n",
       "    .dataframe tbody tr th {\n",
       "        vertical-align: top;\n",
       "    }\n",
       "\n",
       "    .dataframe thead th {\n",
       "        text-align: right;\n",
       "    }\n",
       "</style>\n",
       "<table border=\"1\" class=\"dataframe\">\n",
       "  <thead>\n",
       "    <tr style=\"text-align: right;\">\n",
       "      <th></th>\n",
       "      <th>TRIP_ID</th>\n",
       "      <th>CALL_TYPE</th>\n",
       "      <th>ORIGIN_CALL</th>\n",
       "      <th>ORIGIN_STAND</th>\n",
       "      <th>TAXI_ID</th>\n",
       "      <th>TIMESTAMP</th>\n",
       "      <th>DAY_TYPE</th>\n",
       "      <th>MISSING_DATA</th>\n",
       "      <th>POLYLINE</th>\n",
       "      <th>LEN</th>\n",
       "    </tr>\n",
       "  </thead>\n",
       "  <tbody>\n",
       "    <tr>\n",
       "      <th>577</th>\n",
       "      <td>1372636853620000380</td>\n",
       "      <td>C</td>\n",
       "      <td>NaN</td>\n",
       "      <td>NaN</td>\n",
       "      <td>20000380</td>\n",
       "      <td>1372636853</td>\n",
       "      <td>A</td>\n",
       "      <td>False</td>\n",
       "      <td>[[-8.610291,41.140746],[-8.6103,41.140755],[-8...</td>\n",
       "      <td>360</td>\n",
       "    </tr>\n",
       "    <tr>\n",
       "      <th>3</th>\n",
       "      <td>1372636854620000520</td>\n",
       "      <td>C</td>\n",
       "      <td>NaN</td>\n",
       "      <td>NaN</td>\n",
       "      <td>20000520</td>\n",
       "      <td>1372636854</td>\n",
       "      <td>A</td>\n",
       "      <td>False</td>\n",
       "      <td>[[-8.574678,41.151951],[-8.574705,41.151942],[...</td>\n",
       "      <td>630</td>\n",
       "    </tr>\n",
       "    <tr>\n",
       "      <th>0</th>\n",
       "      <td>1372636858620000589</td>\n",
       "      <td>C</td>\n",
       "      <td>NaN</td>\n",
       "      <td>NaN</td>\n",
       "      <td>20000589</td>\n",
       "      <td>1372636858</td>\n",
       "      <td>A</td>\n",
       "      <td>False</td>\n",
       "      <td>[[-8.618643,41.141412],[-8.618499,41.141376],[...</td>\n",
       "      <td>330</td>\n",
       "    </tr>\n",
       "    <tr>\n",
       "      <th>10</th>\n",
       "      <td>1372636875620000233</td>\n",
       "      <td>C</td>\n",
       "      <td>NaN</td>\n",
       "      <td>NaN</td>\n",
       "      <td>20000233</td>\n",
       "      <td>1372636875</td>\n",
       "      <td>A</td>\n",
       "      <td>False</td>\n",
       "      <td>[[-8.619894,41.148009],[-8.620164,41.14773],[-...</td>\n",
       "      <td>315</td>\n",
       "    </tr>\n",
       "    <tr>\n",
       "      <th>64</th>\n",
       "      <td>1372636896620000360</td>\n",
       "      <td>C</td>\n",
       "      <td>NaN</td>\n",
       "      <td>NaN</td>\n",
       "      <td>20000360</td>\n",
       "      <td>1372636896</td>\n",
       "      <td>A</td>\n",
       "      <td>False</td>\n",
       "      <td>[[-8.617599,41.146137],[-8.617581,41.14593],[-...</td>\n",
       "      <td>630</td>\n",
       "    </tr>\n",
       "  </tbody>\n",
       "</table>\n",
       "</div>"
      ],
      "text/plain": [
       "                 TRIP_ID CALL_TYPE  ORIGIN_CALL  ORIGIN_STAND   TAXI_ID  \\\n",
       "577  1372636853620000380         C          NaN           NaN  20000380   \n",
       "3    1372636854620000520         C          NaN           NaN  20000520   \n",
       "0    1372636858620000589         C          NaN           NaN  20000589   \n",
       "10   1372636875620000233         C          NaN           NaN  20000233   \n",
       "64   1372636896620000360         C          NaN           NaN  20000360   \n",
       "\n",
       "      TIMESTAMP DAY_TYPE  MISSING_DATA  \\\n",
       "577  1372636853        A         False   \n",
       "3    1372636854        A         False   \n",
       "0    1372636858        A         False   \n",
       "10   1372636875        A         False   \n",
       "64   1372636896        A         False   \n",
       "\n",
       "                                              POLYLINE  LEN  \n",
       "577  [[-8.610291,41.140746],[-8.6103,41.140755],[-8...  360  \n",
       "3    [[-8.574678,41.151951],[-8.574705,41.151942],[...  630  \n",
       "0    [[-8.618643,41.141412],[-8.618499,41.141376],[...  330  \n",
       "10   [[-8.619894,41.148009],[-8.620164,41.14773],[-...  315  \n",
       "64   [[-8.617599,41.146137],[-8.617581,41.14593],[-...  630  "
      ]
     },
     "execution_count": 6,
     "metadata": {},
     "output_type": "execute_result"
    }
   ],
   "source": [
    "train.head()"
   ]
  },
  {
   "cell_type": "code",
   "execution_count": 4,
   "id": "8aa3b6e8",
   "metadata": {},
   "outputs": [],
   "source": [
    "import holidays\n",
    "from datetime import timedelta\n",
    "from datetime import datetime"
   ]
  },
  {
   "cell_type": "code",
   "execution_count": 5,
   "id": "0fc6ac9d",
   "metadata": {},
   "outputs": [],
   "source": [
    "ptholi = holidays.PT()\n",
    "def ptholiday(x):\n",
    "    dt = datetime.fromtimestamp(x)\n",
    "    curr = dt.date()\n",
    "    # On holiday\n",
    "    if curr in ptholi:\n",
    "        return 2\n",
    "    # One day before or after holiday\n",
    "    if curr + timedelta(days=1) in ptholi:\n",
    "        return 1\n",
    "    # Not holiday\n",
    "    else:\n",
    "        return 0"
   ]
  },
  {
   "cell_type": "code",
   "execution_count": 9,
   "id": "17787520",
   "metadata": {},
   "outputs": [],
   "source": [
    "train['HOLIDAY'] = train['TIMESTAMP'].apply(ptholiday)"
   ]
  },
  {
   "cell_type": "code",
   "execution_count": 6,
   "id": "2b49c4d0",
   "metadata": {},
   "outputs": [],
   "source": [
    "from datetime import datetime\n",
    "def parse_time(x):\n",
    "    dt = datetime.fromtimestamp(x[\"TIMESTAMP\"])\n",
    "    return dt.year, dt.month, dt.day, dt.hour, dt.weekday()\n",
    "\n",
    "train[[\"YR\", \"MON\", \"DAY\", \"HR\", \"WK\"]] = train[[\"TIMESTAMP\"]].apply(parse_time, axis=1, result_type=\"expand\")"
   ]
  },
  {
   "cell_type": "code",
   "execution_count": 11,
   "id": "1c08a1f6",
   "metadata": {},
   "outputs": [
    {
     "data": {
      "text/html": [
       "<div>\n",
       "<style scoped>\n",
       "    .dataframe tbody tr th:only-of-type {\n",
       "        vertical-align: middle;\n",
       "    }\n",
       "\n",
       "    .dataframe tbody tr th {\n",
       "        vertical-align: top;\n",
       "    }\n",
       "\n",
       "    .dataframe thead th {\n",
       "        text-align: right;\n",
       "    }\n",
       "</style>\n",
       "<table border=\"1\" class=\"dataframe\">\n",
       "  <thead>\n",
       "    <tr style=\"text-align: right;\">\n",
       "      <th></th>\n",
       "      <th>TRIP_ID</th>\n",
       "      <th>CALL_TYPE</th>\n",
       "      <th>ORIGIN_CALL</th>\n",
       "      <th>ORIGIN_STAND</th>\n",
       "      <th>TAXI_ID</th>\n",
       "      <th>TIMESTAMP</th>\n",
       "      <th>DAY_TYPE</th>\n",
       "      <th>MISSING_DATA</th>\n",
       "      <th>POLYLINE</th>\n",
       "      <th>LEN</th>\n",
       "      <th>HOLIDAY</th>\n",
       "      <th>YR</th>\n",
       "      <th>MON</th>\n",
       "      <th>DAY</th>\n",
       "      <th>HR</th>\n",
       "      <th>WK</th>\n",
       "    </tr>\n",
       "  </thead>\n",
       "  <tbody>\n",
       "    <tr>\n",
       "      <th>577</th>\n",
       "      <td>1372636853620000380</td>\n",
       "      <td>C</td>\n",
       "      <td>NaN</td>\n",
       "      <td>NaN</td>\n",
       "      <td>20000380</td>\n",
       "      <td>1372636853</td>\n",
       "      <td>A</td>\n",
       "      <td>False</td>\n",
       "      <td>[[-8.610291,41.140746],[-8.6103,41.140755],[-8...</td>\n",
       "      <td>360</td>\n",
       "      <td>0</td>\n",
       "      <td>2013</td>\n",
       "      <td>7</td>\n",
       "      <td>1</td>\n",
       "      <td>0</td>\n",
       "      <td>0</td>\n",
       "    </tr>\n",
       "    <tr>\n",
       "      <th>3</th>\n",
       "      <td>1372636854620000520</td>\n",
       "      <td>C</td>\n",
       "      <td>NaN</td>\n",
       "      <td>NaN</td>\n",
       "      <td>20000520</td>\n",
       "      <td>1372636854</td>\n",
       "      <td>A</td>\n",
       "      <td>False</td>\n",
       "      <td>[[-8.574678,41.151951],[-8.574705,41.151942],[...</td>\n",
       "      <td>630</td>\n",
       "      <td>0</td>\n",
       "      <td>2013</td>\n",
       "      <td>7</td>\n",
       "      <td>1</td>\n",
       "      <td>0</td>\n",
       "      <td>0</td>\n",
       "    </tr>\n",
       "    <tr>\n",
       "      <th>0</th>\n",
       "      <td>1372636858620000589</td>\n",
       "      <td>C</td>\n",
       "      <td>NaN</td>\n",
       "      <td>NaN</td>\n",
       "      <td>20000589</td>\n",
       "      <td>1372636858</td>\n",
       "      <td>A</td>\n",
       "      <td>False</td>\n",
       "      <td>[[-8.618643,41.141412],[-8.618499,41.141376],[...</td>\n",
       "      <td>330</td>\n",
       "      <td>0</td>\n",
       "      <td>2013</td>\n",
       "      <td>7</td>\n",
       "      <td>1</td>\n",
       "      <td>0</td>\n",
       "      <td>0</td>\n",
       "    </tr>\n",
       "    <tr>\n",
       "      <th>10</th>\n",
       "      <td>1372636875620000233</td>\n",
       "      <td>C</td>\n",
       "      <td>NaN</td>\n",
       "      <td>NaN</td>\n",
       "      <td>20000233</td>\n",
       "      <td>1372636875</td>\n",
       "      <td>A</td>\n",
       "      <td>False</td>\n",
       "      <td>[[-8.619894,41.148009],[-8.620164,41.14773],[-...</td>\n",
       "      <td>315</td>\n",
       "      <td>0</td>\n",
       "      <td>2013</td>\n",
       "      <td>7</td>\n",
       "      <td>1</td>\n",
       "      <td>0</td>\n",
       "      <td>0</td>\n",
       "    </tr>\n",
       "    <tr>\n",
       "      <th>64</th>\n",
       "      <td>1372636896620000360</td>\n",
       "      <td>C</td>\n",
       "      <td>NaN</td>\n",
       "      <td>NaN</td>\n",
       "      <td>20000360</td>\n",
       "      <td>1372636896</td>\n",
       "      <td>A</td>\n",
       "      <td>False</td>\n",
       "      <td>[[-8.617599,41.146137],[-8.617581,41.14593],[-...</td>\n",
       "      <td>630</td>\n",
       "      <td>0</td>\n",
       "      <td>2013</td>\n",
       "      <td>7</td>\n",
       "      <td>1</td>\n",
       "      <td>0</td>\n",
       "      <td>0</td>\n",
       "    </tr>\n",
       "    <tr>\n",
       "      <th>...</th>\n",
       "      <td>...</td>\n",
       "      <td>...</td>\n",
       "      <td>...</td>\n",
       "      <td>...</td>\n",
       "      <td>...</td>\n",
       "      <td>...</td>\n",
       "      <td>...</td>\n",
       "      <td>...</td>\n",
       "      <td>...</td>\n",
       "      <td>...</td>\n",
       "      <td>...</td>\n",
       "      <td>...</td>\n",
       "      <td>...</td>\n",
       "      <td>...</td>\n",
       "      <td>...</td>\n",
       "      <td>...</td>\n",
       "    </tr>\n",
       "    <tr>\n",
       "      <th>1710412</th>\n",
       "      <td>1404172716620000359</td>\n",
       "      <td>B</td>\n",
       "      <td>NaN</td>\n",
       "      <td>61.0</td>\n",
       "      <td>20000359</td>\n",
       "      <td>1404172716</td>\n",
       "      <td>A</td>\n",
       "      <td>False</td>\n",
       "      <td>[[-8.599248,41.149197],[-8.598645,41.148504],[...</td>\n",
       "      <td>45</td>\n",
       "      <td>0</td>\n",
       "      <td>2014</td>\n",
       "      <td>6</td>\n",
       "      <td>30</td>\n",
       "      <td>23</td>\n",
       "      <td>0</td>\n",
       "    </tr>\n",
       "    <tr>\n",
       "      <th>1710511</th>\n",
       "      <td>1404172718620000066</td>\n",
       "      <td>A</td>\n",
       "      <td>2002.0</td>\n",
       "      <td>NaN</td>\n",
       "      <td>20000066</td>\n",
       "      <td>1404172718</td>\n",
       "      <td>A</td>\n",
       "      <td>False</td>\n",
       "      <td>[[-8.601192,41.181741],[-8.601201,41.181741],[...</td>\n",
       "      <td>45</td>\n",
       "      <td>0</td>\n",
       "      <td>2014</td>\n",
       "      <td>6</td>\n",
       "      <td>30</td>\n",
       "      <td>23</td>\n",
       "      <td>0</td>\n",
       "    </tr>\n",
       "    <tr>\n",
       "      <th>1710603</th>\n",
       "      <td>1404172736620000483</td>\n",
       "      <td>C</td>\n",
       "      <td>NaN</td>\n",
       "      <td>NaN</td>\n",
       "      <td>20000483</td>\n",
       "      <td>1404172736</td>\n",
       "      <td>A</td>\n",
       "      <td>False</td>\n",
       "      <td>[[-8.58609,41.175504],[-8.586351,41.174955],[-...</td>\n",
       "      <td>45</td>\n",
       "      <td>0</td>\n",
       "      <td>2014</td>\n",
       "      <td>6</td>\n",
       "      <td>30</td>\n",
       "      <td>23</td>\n",
       "      <td>0</td>\n",
       "    </tr>\n",
       "    <tr>\n",
       "      <th>1710532</th>\n",
       "      <td>1404172754620000518</td>\n",
       "      <td>B</td>\n",
       "      <td>NaN</td>\n",
       "      <td>58.0</td>\n",
       "      <td>20000518</td>\n",
       "      <td>1404172754</td>\n",
       "      <td>A</td>\n",
       "      <td>False</td>\n",
       "      <td>[[-8.604765,41.16123],[-8.604792,41.161167]]</td>\n",
       "      <td>15</td>\n",
       "      <td>0</td>\n",
       "      <td>2014</td>\n",
       "      <td>6</td>\n",
       "      <td>30</td>\n",
       "      <td>23</td>\n",
       "      <td>0</td>\n",
       "    </tr>\n",
       "    <tr>\n",
       "      <th>1710310</th>\n",
       "      <td>1404172796620000657</td>\n",
       "      <td>C</td>\n",
       "      <td>NaN</td>\n",
       "      <td>NaN</td>\n",
       "      <td>20000657</td>\n",
       "      <td>1404172796</td>\n",
       "      <td>A</td>\n",
       "      <td>False</td>\n",
       "      <td>[]</td>\n",
       "      <td>0</td>\n",
       "      <td>0</td>\n",
       "      <td>2014</td>\n",
       "      <td>6</td>\n",
       "      <td>30</td>\n",
       "      <td>23</td>\n",
       "      <td>0</td>\n",
       "    </tr>\n",
       "  </tbody>\n",
       "</table>\n",
       "<p>1710660 rows × 16 columns</p>\n",
       "</div>"
      ],
      "text/plain": [
       "                     TRIP_ID CALL_TYPE  ORIGIN_CALL  ORIGIN_STAND   TAXI_ID  \\\n",
       "577      1372636853620000380         C          NaN           NaN  20000380   \n",
       "3        1372636854620000520         C          NaN           NaN  20000520   \n",
       "0        1372636858620000589         C          NaN           NaN  20000589   \n",
       "10       1372636875620000233         C          NaN           NaN  20000233   \n",
       "64       1372636896620000360         C          NaN           NaN  20000360   \n",
       "...                      ...       ...          ...           ...       ...   \n",
       "1710412  1404172716620000359         B          NaN          61.0  20000359   \n",
       "1710511  1404172718620000066         A       2002.0           NaN  20000066   \n",
       "1710603  1404172736620000483         C          NaN           NaN  20000483   \n",
       "1710532  1404172754620000518         B          NaN          58.0  20000518   \n",
       "1710310  1404172796620000657         C          NaN           NaN  20000657   \n",
       "\n",
       "          TIMESTAMP DAY_TYPE  MISSING_DATA  \\\n",
       "577      1372636853        A         False   \n",
       "3        1372636854        A         False   \n",
       "0        1372636858        A         False   \n",
       "10       1372636875        A         False   \n",
       "64       1372636896        A         False   \n",
       "...             ...      ...           ...   \n",
       "1710412  1404172716        A         False   \n",
       "1710511  1404172718        A         False   \n",
       "1710603  1404172736        A         False   \n",
       "1710532  1404172754        A         False   \n",
       "1710310  1404172796        A         False   \n",
       "\n",
       "                                                  POLYLINE  LEN  HOLIDAY  \\\n",
       "577      [[-8.610291,41.140746],[-8.6103,41.140755],[-8...  360        0   \n",
       "3        [[-8.574678,41.151951],[-8.574705,41.151942],[...  630        0   \n",
       "0        [[-8.618643,41.141412],[-8.618499,41.141376],[...  330        0   \n",
       "10       [[-8.619894,41.148009],[-8.620164,41.14773],[-...  315        0   \n",
       "64       [[-8.617599,41.146137],[-8.617581,41.14593],[-...  630        0   \n",
       "...                                                    ...  ...      ...   \n",
       "1710412  [[-8.599248,41.149197],[-8.598645,41.148504],[...   45        0   \n",
       "1710511  [[-8.601192,41.181741],[-8.601201,41.181741],[...   45        0   \n",
       "1710603  [[-8.58609,41.175504],[-8.586351,41.174955],[-...   45        0   \n",
       "1710532       [[-8.604765,41.16123],[-8.604792,41.161167]]   15        0   \n",
       "1710310                                                 []    0        0   \n",
       "\n",
       "           YR  MON  DAY  HR  WK  \n",
       "577      2013    7    1   0   0  \n",
       "3        2013    7    1   0   0  \n",
       "0        2013    7    1   0   0  \n",
       "10       2013    7    1   0   0  \n",
       "64       2013    7    1   0   0  \n",
       "...       ...  ...  ...  ..  ..  \n",
       "1710412  2014    6   30  23   0  \n",
       "1710511  2014    6   30  23   0  \n",
       "1710603  2014    6   30  23   0  \n",
       "1710532  2014    6   30  23   0  \n",
       "1710310  2014    6   30  23   0  \n",
       "\n",
       "[1710660 rows x 16 columns]"
      ]
     },
     "execution_count": 11,
     "metadata": {},
     "output_type": "execute_result"
    }
   ],
   "source": [
    "train[train['MISSING_DATA']==False]"
   ]
  },
  {
   "cell_type": "code",
   "execution_count": 12,
   "id": "b5f98b33",
   "metadata": {},
   "outputs": [],
   "source": [
    "train = train[train['MISSING_DATA']==False]\n",
    "train = train.drop(['TRIP_ID', 'DAY_TYPE', 'TIMESTAMP', 'ORIGIN_CALL', 'MISSING_DATA'], axis=1)\n",
    "#train = train[train['LEN']!=0]\n",
    "#train['MISSING_DATA'] = train['MISSING_DATA'].replace({True:1, False:0})\n",
    "train['CALL_TYPE'] = train['CALL_TYPE'].replace({'A':1, 'B':2, 'C':3})\n",
    "train.loc[train['CALL_TYPE']==1, ['ORIGIN_STAND']] = 0\n",
    "train.loc[train['CALL_TYPE']==3, ['ORIGIN_STAND']] = -1"
   ]
  },
  {
   "cell_type": "code",
   "execution_count": 13,
   "id": "d33c89bb",
   "metadata": {},
   "outputs": [],
   "source": [
    "train.dropna(inplace=True)"
   ]
  },
  {
   "cell_type": "code",
   "execution_count": 14,
   "id": "399bab72",
   "metadata": {},
   "outputs": [],
   "source": [
    "train['TAXI_ID'] = train['TAXI_ID'].apply(lambda x: int(str(x)[-4:]))"
   ]
  },
  {
   "cell_type": "code",
   "execution_count": 15,
   "id": "9972152d",
   "metadata": {},
   "outputs": [],
   "source": [
    "train = train.drop(columns=['POLYLINE'])"
   ]
  },
  {
   "cell_type": "code",
   "execution_count": 16,
   "id": "499ddb09",
   "metadata": {},
   "outputs": [
    {
     "data": {
      "text/html": [
       "<div>\n",
       "<style scoped>\n",
       "    .dataframe tbody tr th:only-of-type {\n",
       "        vertical-align: middle;\n",
       "    }\n",
       "\n",
       "    .dataframe tbody tr th {\n",
       "        vertical-align: top;\n",
       "    }\n",
       "\n",
       "    .dataframe thead th {\n",
       "        text-align: right;\n",
       "    }\n",
       "</style>\n",
       "<table border=\"1\" class=\"dataframe\">\n",
       "  <thead>\n",
       "    <tr style=\"text-align: right;\">\n",
       "      <th></th>\n",
       "      <th>CALL_TYPE</th>\n",
       "      <th>ORIGIN_STAND</th>\n",
       "      <th>TAXI_ID</th>\n",
       "      <th>LEN</th>\n",
       "      <th>HOLIDAY</th>\n",
       "      <th>YR</th>\n",
       "      <th>MON</th>\n",
       "      <th>DAY</th>\n",
       "      <th>HR</th>\n",
       "      <th>WK</th>\n",
       "    </tr>\n",
       "  </thead>\n",
       "  <tbody>\n",
       "    <tr>\n",
       "      <th>577</th>\n",
       "      <td>3</td>\n",
       "      <td>-1.0</td>\n",
       "      <td>380</td>\n",
       "      <td>360</td>\n",
       "      <td>0</td>\n",
       "      <td>2013</td>\n",
       "      <td>7</td>\n",
       "      <td>1</td>\n",
       "      <td>0</td>\n",
       "      <td>0</td>\n",
       "    </tr>\n",
       "    <tr>\n",
       "      <th>3</th>\n",
       "      <td>3</td>\n",
       "      <td>-1.0</td>\n",
       "      <td>520</td>\n",
       "      <td>630</td>\n",
       "      <td>0</td>\n",
       "      <td>2013</td>\n",
       "      <td>7</td>\n",
       "      <td>1</td>\n",
       "      <td>0</td>\n",
       "      <td>0</td>\n",
       "    </tr>\n",
       "    <tr>\n",
       "      <th>0</th>\n",
       "      <td>3</td>\n",
       "      <td>-1.0</td>\n",
       "      <td>589</td>\n",
       "      <td>330</td>\n",
       "      <td>0</td>\n",
       "      <td>2013</td>\n",
       "      <td>7</td>\n",
       "      <td>1</td>\n",
       "      <td>0</td>\n",
       "      <td>0</td>\n",
       "    </tr>\n",
       "    <tr>\n",
       "      <th>10</th>\n",
       "      <td>3</td>\n",
       "      <td>-1.0</td>\n",
       "      <td>233</td>\n",
       "      <td>315</td>\n",
       "      <td>0</td>\n",
       "      <td>2013</td>\n",
       "      <td>7</td>\n",
       "      <td>1</td>\n",
       "      <td>0</td>\n",
       "      <td>0</td>\n",
       "    </tr>\n",
       "    <tr>\n",
       "      <th>64</th>\n",
       "      <td>3</td>\n",
       "      <td>-1.0</td>\n",
       "      <td>360</td>\n",
       "      <td>630</td>\n",
       "      <td>0</td>\n",
       "      <td>2013</td>\n",
       "      <td>7</td>\n",
       "      <td>1</td>\n",
       "      <td>0</td>\n",
       "      <td>0</td>\n",
       "    </tr>\n",
       "  </tbody>\n",
       "</table>\n",
       "</div>"
      ],
      "text/plain": [
       "     CALL_TYPE  ORIGIN_STAND  TAXI_ID  LEN  HOLIDAY    YR  MON  DAY  HR  WK\n",
       "577          3          -1.0      380  360        0  2013    7    1   0   0\n",
       "3            3          -1.0      520  630        0  2013    7    1   0   0\n",
       "0            3          -1.0      589  330        0  2013    7    1   0   0\n",
       "10           3          -1.0      233  315        0  2013    7    1   0   0\n",
       "64           3          -1.0      360  630        0  2013    7    1   0   0"
      ]
     },
     "execution_count": 16,
     "metadata": {},
     "output_type": "execute_result"
    }
   ],
   "source": [
    "train.head()"
   ]
  },
  {
   "cell_type": "code",
   "execution_count": 17,
   "id": "ec0bb554",
   "metadata": {},
   "outputs": [],
   "source": [
    "train.to_csv('cleaned_train.csv')"
   ]
  },
  {
   "cell_type": "code",
   "execution_count": 7,
   "id": "73f8bda0",
   "metadata": {},
   "outputs": [],
   "source": [
    "train = pd.read_csv('cleaned_train.csv', index_col=0)"
   ]
  },
  {
   "cell_type": "code",
   "execution_count": 8,
   "id": "35f9a32b",
   "metadata": {},
   "outputs": [
    {
     "data": {
      "text/html": [
       "<div>\n",
       "<style scoped>\n",
       "    .dataframe tbody tr th:only-of-type {\n",
       "        vertical-align: middle;\n",
       "    }\n",
       "\n",
       "    .dataframe tbody tr th {\n",
       "        vertical-align: top;\n",
       "    }\n",
       "\n",
       "    .dataframe thead th {\n",
       "        text-align: right;\n",
       "    }\n",
       "</style>\n",
       "<table border=\"1\" class=\"dataframe\">\n",
       "  <thead>\n",
       "    <tr style=\"text-align: right;\">\n",
       "      <th></th>\n",
       "      <th>CALL_TYPE</th>\n",
       "      <th>ORIGIN_STAND</th>\n",
       "      <th>TAXI_ID</th>\n",
       "      <th>LEN</th>\n",
       "      <th>HOLIDAY</th>\n",
       "      <th>YR</th>\n",
       "      <th>MON</th>\n",
       "      <th>DAY</th>\n",
       "      <th>HR</th>\n",
       "      <th>WK</th>\n",
       "    </tr>\n",
       "  </thead>\n",
       "  <tbody>\n",
       "    <tr>\n",
       "      <th>577</th>\n",
       "      <td>3</td>\n",
       "      <td>-1.0</td>\n",
       "      <td>380</td>\n",
       "      <td>360</td>\n",
       "      <td>0</td>\n",
       "      <td>2013</td>\n",
       "      <td>7</td>\n",
       "      <td>1</td>\n",
       "      <td>0</td>\n",
       "      <td>0</td>\n",
       "    </tr>\n",
       "    <tr>\n",
       "      <th>3</th>\n",
       "      <td>3</td>\n",
       "      <td>-1.0</td>\n",
       "      <td>520</td>\n",
       "      <td>630</td>\n",
       "      <td>0</td>\n",
       "      <td>2013</td>\n",
       "      <td>7</td>\n",
       "      <td>1</td>\n",
       "      <td>0</td>\n",
       "      <td>0</td>\n",
       "    </tr>\n",
       "    <tr>\n",
       "      <th>0</th>\n",
       "      <td>3</td>\n",
       "      <td>-1.0</td>\n",
       "      <td>589</td>\n",
       "      <td>330</td>\n",
       "      <td>0</td>\n",
       "      <td>2013</td>\n",
       "      <td>7</td>\n",
       "      <td>1</td>\n",
       "      <td>0</td>\n",
       "      <td>0</td>\n",
       "    </tr>\n",
       "    <tr>\n",
       "      <th>10</th>\n",
       "      <td>3</td>\n",
       "      <td>-1.0</td>\n",
       "      <td>233</td>\n",
       "      <td>315</td>\n",
       "      <td>0</td>\n",
       "      <td>2013</td>\n",
       "      <td>7</td>\n",
       "      <td>1</td>\n",
       "      <td>0</td>\n",
       "      <td>0</td>\n",
       "    </tr>\n",
       "    <tr>\n",
       "      <th>64</th>\n",
       "      <td>3</td>\n",
       "      <td>-1.0</td>\n",
       "      <td>360</td>\n",
       "      <td>630</td>\n",
       "      <td>0</td>\n",
       "      <td>2013</td>\n",
       "      <td>7</td>\n",
       "      <td>1</td>\n",
       "      <td>0</td>\n",
       "      <td>0</td>\n",
       "    </tr>\n",
       "  </tbody>\n",
       "</table>\n",
       "</div>"
      ],
      "text/plain": [
       "     CALL_TYPE  ORIGIN_STAND  TAXI_ID  LEN  HOLIDAY    YR  MON  DAY  HR  WK\n",
       "577          3          -1.0      380  360        0  2013    7    1   0   0\n",
       "3            3          -1.0      520  630        0  2013    7    1   0   0\n",
       "0            3          -1.0      589  330        0  2013    7    1   0   0\n",
       "10           3          -1.0      233  315        0  2013    7    1   0   0\n",
       "64           3          -1.0      360  630        0  2013    7    1   0   0"
      ]
     },
     "execution_count": 8,
     "metadata": {},
     "output_type": "execute_result"
    }
   ],
   "source": [
    "train.head()"
   ]
  },
  {
   "cell_type": "code",
   "execution_count": 64,
   "id": "dc659c4a",
   "metadata": {},
   "outputs": [
    {
     "data": {
      "text/plain": [
       "(array([1.695717e+06, 2.950000e+03, 4.700000e+02, 1.070000e+02,\n",
       "        6.300000e+01, 3.200000e+01, 1.100000e+01, 2.000000e+00,\n",
       "        1.000000e+00, 5.000000e+00]),\n",
       " array([    0.,  5820., 11640., 17460., 23280., 29100., 34920., 40740.,\n",
       "        46560., 52380., 58200.]),\n",
       " <BarContainer object of 10 artists>)"
      ]
     },
     "execution_count": 64,
     "metadata": {},
     "output_type": "execute_result"
    },
    {
     "data": {
      "image/png": "[encoded data removed]",
      "text/plain": [
       "<Figure size 432x288 with 1 Axes>"
      ]
     },
     "metadata": {
      "needs_background": "light"
     },
     "output_type": "display_data"
    }
   ],
   "source": [
    "plt.hist(train['LEN'])"
   ]
  },
  {
   "cell_type": "code",
   "execution_count": 14,
   "id": "31990a64",
   "metadata": {},
   "outputs": [
    {
     "name": "stdout",
     "output_type": "stream",
     "text": [
      "mean=716.1467742523942 median=600.0 std=685.2098772404441\n"
     ]
    }
   ],
   "source": [
    "mean, std = train[\"LEN\"].mean(), train[\"LEN\"].std()\n",
    "median = train[\"LEN\"].median()\n",
    "print(f\"{mean=} {median=} {std=}\")"
   ]
  },
  {
   "cell_type": "code",
   "execution_count": 15,
   "id": "e585c0d5",
   "metadata": {},
   "outputs": [],
   "source": [
    "outlier_threshold = 3\n",
    "df_trimmed = train[train[\"LEN\"] < mean + outlier_threshold * std]"
   ]
  },
  {
   "cell_type": "code",
   "execution_count": 16,
   "id": "7269c519",
   "metadata": {},
   "outputs": [
    {
     "name": "stdout",
     "output_type": "stream",
     "text": [
      "mean=671.684444801256 median=600.0 std=405.31008737807565\n"
     ]
    }
   ],
   "source": [
    "mean, std = df_trimmed[\"LEN\"].mean(), df_trimmed[\"LEN\"].std()\n",
    "median = df_trimmed[\"LEN\"].median()\n",
    "print(f\"{mean=} {median=} {std=}\")"
   ]
  },
  {
   "cell_type": "code",
   "execution_count": 17,
   "id": "986ea8f8",
   "metadata": {},
   "outputs": [],
   "source": [
    "import torch\n",
    "import torch.nn as nn\n",
    "import torch.optim as optim\n",
    "from sklearn.preprocessing import StandardScaler\n",
    "from sklearn.model_selection import train_test_split"
   ]
  },
  {
   "cell_type": "code",
   "execution_count": 18,
   "id": "1b9decfc",
   "metadata": {},
   "outputs": [
    {
     "data": {
      "text/plain": [
       "device(type='cuda')"
      ]
     },
     "execution_count": 18,
     "metadata": {},
     "output_type": "execute_result"
    }
   ],
   "source": [
    "device = torch.device(\"cuda\" if torch.cuda.is_available() else \"cpu\")\n",
    "device"
   ]
  },
  {
   "cell_type": "code",
   "execution_count": 68,
   "id": "b1974784",
   "metadata": {},
   "outputs": [],
   "source": [
    "s = StandardScaler()\n",
    "#X = s.fit_transform(df_trimmed.drop(columns=['LEN']))\n",
    "X = s.fit_transform(df_trimmed.drop(columns=['LEN']))\n",
    "y = df_trimmed['LEN']"
   ]
  },
  {
   "cell_type": "code",
   "execution_count": 71,
   "id": "f7e36504",
   "metadata": {},
   "outputs": [
    {
     "data": {
      "text/plain": [
       "array([[ 1.26711975, -0.76896497,  0.15038667, ..., -1.64994686,\n",
       "        -1.90537997, -1.55412953],\n",
       "       [ 1.26711975, -0.76896497,  0.81364086, ..., -1.64994686,\n",
       "        -1.90537997, -1.55412953],\n",
       "       [ 1.26711975, -0.76896497,  1.14053043, ..., -1.64994686,\n",
       "        -1.90537997, -1.55412953],\n",
       "       ...,\n",
       "       [ 1.26711975, -0.76896497,  0.63835225, ...,  1.62962485,\n",
       "         1.77489077, -1.55412953],\n",
       "       [-0.12752294,  2.22587183,  0.8041658 , ...,  1.62962485,\n",
       "         1.77489077, -1.55412953],\n",
       "       [ 1.26711975, -0.76896497,  1.46268246, ...,  1.62962485,\n",
       "         1.77489077, -1.55412953]])"
      ]
     },
     "execution_count": 71,
     "metadata": {},
     "output_type": "execute_result"
    }
   ],
   "source": [
    "X"
   ]
  },
  {
   "cell_type": "code",
   "execution_count": 72,
   "id": "3c4eba29",
   "metadata": {},
   "outputs": [],
   "source": [
    "X_train, X_test, y_train, y_test  = train_test_split(X, y, test_size = 0.4)"
   ]
  },
  {
   "cell_type": "code",
   "execution_count": 73,
   "id": "40673250",
   "metadata": {},
   "outputs": [],
   "source": [
    "X_train = torch.tensor(X_train, dtype=torch.float32).to(device)\n",
    "y_train = torch.tensor(y_train.values, dtype=torch.float32).reshape(-1, 1).to(device)\n",
    "X_test = torch.tensor(X_test, dtype=torch.float32).to(device)\n",
    "y_test = torch.tensor(y_test.values, dtype=torch.float32).reshape(-1, 1).to(device)"
   ]
  },
  {
   "cell_type": "code",
   "execution_count": 74,
   "id": "ed4a1d75",
   "metadata": {},
   "outputs": [
    {
     "data": {
      "text/plain": [
       "torch.Size([1008936, 9])"
      ]
     },
     "execution_count": 74,
     "metadata": {},
     "output_type": "execute_result"
    }
   ],
   "source": [
    "X_train.shape"
   ]
  },
  {
   "cell_type": "code",
   "execution_count": 75,
   "id": "2f5aa0cc",
   "metadata": {},
   "outputs": [],
   "source": [
    "model = nn.Sequential(\n",
    "    nn.Linear(9, 27),\n",
    "    nn.ReLU(),\n",
    "    nn.Dropout(p=0.3),\n",
    "    nn.BatchNorm1d(27),\n",
    "    nn.Linear(27, 9),\n",
    "    nn.ReLU(),\n",
    "    nn.Dropout(p=0.3),\n",
    "    nn.BatchNorm1d(9),\n",
    "    nn.Linear(9, 1),\n",
    ").to(device)"
   ]
  },
  {
   "cell_type": "code",
   "execution_count": 76,
   "id": "ef940b54",
   "metadata": {},
   "outputs": [],
   "source": [
    "loss_fn = nn.MSELoss()\n",
    "optimizer = optim.Adam(model.parameters(), lr=0.0001)"
   ]
  },
  {
   "cell_type": "code",
   "execution_count": 77,
   "id": "9f10dbd5",
   "metadata": {},
   "outputs": [],
   "source": [
    "from torch.optim.lr_scheduler import StepLR \n",
    "scheduler = StepLR(optimizer, step_size=10, gamma=0.1)"
   ]
  },
  {
   "cell_type": "code",
   "execution_count": 78,
   "id": "70c2ee5b",
   "metadata": {},
   "outputs": [],
   "source": [
    "save = {'w':None,'history':[],'mse':np.inf}"
   ]
  },
  {
   "cell_type": "code",
   "execution_count": 81,
   "id": "5a4d2561",
   "metadata": {},
   "outputs": [],
   "source": [
    "n_epochs = 20   # number of epochs to run\n",
    "batch_size = 256  # size of each batch\n",
    "batch_start = torch.arange(0, len(X_train), batch_size)"
   ]
  },
  {
   "cell_type": "code",
   "execution_count": 82,
   "id": "d2ecdaa0",
   "metadata": {},
   "outputs": [],
   "source": [
    "best_mse = save['mse']  # init to infinity\n",
    "best_weights = save['w']\n",
    "history_train = []\n",
    "history_test = []"
   ]
  },
  {
   "cell_type": "code",
   "execution_count": 85,
   "id": "7d0fcaf2",
   "metadata": {},
   "outputs": [
    {
     "name": "stderr",
     "output_type": "stream",
     "text": [
      "100%|██████████| 20/20 [04:25<00:00, 13.30s/it]\n"
     ]
    }
   ],
   "source": [
    "for epoch in tqdm.tqdm(range(n_epochs)):\n",
    "    model.train()\n",
    "    bar = tqdm.tqdm(batch_start, unit=\"batch\", mininterval=0, disable=True)\n",
    "    for start in bar:\n",
    "        # take a batch\n",
    "        X_batch = X_train[start:start+batch_size]\n",
    "        y_batch = y_train[start:start+batch_size]\n",
    "        # forward pass\n",
    "        y_pred = model(X_batch)\n",
    "        a = y_pred.cpu().detach().numpy().transpose()[0]\n",
    "        loss = loss_fn(y_pred, y_batch)\n",
    "        # backward pass\n",
    "        optimizer.zero_grad()\n",
    "        loss.backward()\n",
    "        # update weights\n",
    "        optimizer.step()\n",
    "        # print progress\n",
    "    # evaluate accuracy at end of each epoch\n",
    "    #scheduler.step()\n",
    "    train_pred = model(X_train)\n",
    "    history_train.append(float(loss_fn(train_pred, y_train)))\n",
    "    model.eval()\n",
    "    y_pred = model(X_test)\n",
    "    mse = loss_fn(y_pred, y_test)\n",
    "    mse = float(mse)\n",
    "    history_test.append(mse)\n",
    "    if mse < best_mse:\n",
    "        best_mse = mse\n",
    "        best_weights = copy.deepcopy(model.state_dict())"
   ]
  },
  {
   "cell_type": "code",
   "execution_count": 86,
   "id": "8541a917",
   "metadata": {},
   "outputs": [
    {
     "data": {
      "image/png": "[encoded data removed]",
      "text/plain": [
       "<Figure size 432x288 with 1 Axes>"
      ]
     },
     "metadata": {
      "needs_background": "light"
     },
     "output_type": "display_data"
    }
   ],
   "source": [
    "# Plotting both the curves simultaneously\n",
    "plt.plot(np.sqrt(history_train), color='r', label='train')\n",
    "plt.plot(np.sqrt(history_test), color='g', label='test')\n",
    "  \n",
    "# Naming the x-axis, y-axis and the whole graph\n",
    "plt.xlabel(\"Epoch\")\n",
    "plt.ylabel(\"Loss\")\n",
    "  \n",
    "# Adding legend, which helps us recognize the curve according to it's color\n",
    "plt.legend()\n",
    "  \n",
    "# To load the display window\n",
    "plt.show()"
   ]
  },
  {
   "cell_type": "code",
   "execution_count": 87,
   "id": "b6cc12d3",
   "metadata": {},
   "outputs": [],
   "source": [
    "test = pd.read_csv('test.csv')"
   ]
  },
  {
   "cell_type": "code",
   "execution_count": 88,
   "id": "24fd8473",
   "metadata": {},
   "outputs": [],
   "source": [
    "tid =  test[['TRIP_ID']]"
   ]
  },
  {
   "cell_type": "code",
   "execution_count": 89,
   "id": "31969d2b",
   "metadata": {},
   "outputs": [],
   "source": [
    "test[[\"YR\", \"MON\", \"DAY\", \"HR\", \"WK\"]] = test[[\"TIMESTAMP\"]].apply(parse_time, axis=1, result_type=\"expand\")"
   ]
  },
  {
   "cell_type": "code",
   "execution_count": 90,
   "id": "0f66bbe6",
   "metadata": {},
   "outputs": [],
   "source": [
    "test['HOLIDAY'] = test['TIMESTAMP'].apply(ptholiday)"
   ]
  },
  {
   "cell_type": "code",
   "execution_count": 91,
   "id": "bdeabce9",
   "metadata": {},
   "outputs": [],
   "source": [
    "test = test.drop(['TRIP_ID', 'DAY_TYPE', 'TIMESTAMP', 'ORIGIN_CALL', 'MISSING_DATA'], axis=1)\n",
    "test['CALL_TYPE'] = test['CALL_TYPE'].replace({'A':1, 'B':2, 'C':3})\n",
    "test.loc[test['CALL_TYPE']==1, ['ORIGIN_STAND']] = 0\n",
    "test.loc[test['CALL_TYPE']==3, ['ORIGIN_STAND']] = -1"
   ]
  },
  {
   "cell_type": "code",
   "execution_count": 92,
   "id": "55bcaf1e",
   "metadata": {},
   "outputs": [],
   "source": [
    "test['TAXI_ID'] = test['TAXI_ID'].apply(lambda x: int(str(x)[-4:]))"
   ]
  },
  {
   "cell_type": "code",
   "execution_count": 93,
   "id": "9bd28665",
   "metadata": {},
   "outputs": [
    {
     "data": {
      "text/html": [
       "<div>\n",
       "<style scoped>\n",
       "    .dataframe tbody tr th:only-of-type {\n",
       "        vertical-align: middle;\n",
       "    }\n",
       "\n",
       "    .dataframe tbody tr th {\n",
       "        vertical-align: top;\n",
       "    }\n",
       "\n",
       "    .dataframe thead th {\n",
       "        text-align: right;\n",
       "    }\n",
       "</style>\n",
       "<table border=\"1\" class=\"dataframe\">\n",
       "  <thead>\n",
       "    <tr style=\"text-align: right;\">\n",
       "      <th></th>\n",
       "      <th>CALL_TYPE</th>\n",
       "      <th>ORIGIN_STAND</th>\n",
       "      <th>TAXI_ID</th>\n",
       "      <th>YR</th>\n",
       "      <th>MON</th>\n",
       "      <th>DAY</th>\n",
       "      <th>HR</th>\n",
       "      <th>WK</th>\n",
       "      <th>HOLIDAY</th>\n",
       "    </tr>\n",
       "  </thead>\n",
       "  <tbody>\n",
       "    <tr>\n",
       "      <th>0</th>\n",
       "      <td>2</td>\n",
       "      <td>15.0</td>\n",
       "      <td>542</td>\n",
       "      <td>2014</td>\n",
       "      <td>8</td>\n",
       "      <td>14</td>\n",
       "      <td>17</td>\n",
       "      <td>3</td>\n",
       "      <td>1</td>\n",
       "    </tr>\n",
       "    <tr>\n",
       "      <th>1</th>\n",
       "      <td>2</td>\n",
       "      <td>57.0</td>\n",
       "      <td>108</td>\n",
       "      <td>2014</td>\n",
       "      <td>8</td>\n",
       "      <td>14</td>\n",
       "      <td>17</td>\n",
       "      <td>3</td>\n",
       "      <td>1</td>\n",
       "    </tr>\n",
       "    <tr>\n",
       "      <th>2</th>\n",
       "      <td>2</td>\n",
       "      <td>15.0</td>\n",
       "      <td>370</td>\n",
       "      <td>2014</td>\n",
       "      <td>8</td>\n",
       "      <td>14</td>\n",
       "      <td>17</td>\n",
       "      <td>3</td>\n",
       "      <td>1</td>\n",
       "    </tr>\n",
       "    <tr>\n",
       "      <th>3</th>\n",
       "      <td>2</td>\n",
       "      <td>53.0</td>\n",
       "      <td>492</td>\n",
       "      <td>2014</td>\n",
       "      <td>8</td>\n",
       "      <td>14</td>\n",
       "      <td>17</td>\n",
       "      <td>3</td>\n",
       "      <td>1</td>\n",
       "    </tr>\n",
       "    <tr>\n",
       "      <th>4</th>\n",
       "      <td>2</td>\n",
       "      <td>18.0</td>\n",
       "      <td>621</td>\n",
       "      <td>2014</td>\n",
       "      <td>8</td>\n",
       "      <td>14</td>\n",
       "      <td>17</td>\n",
       "      <td>3</td>\n",
       "      <td>1</td>\n",
       "    </tr>\n",
       "    <tr>\n",
       "      <th>...</th>\n",
       "      <td>...</td>\n",
       "      <td>...</td>\n",
       "      <td>...</td>\n",
       "      <td>...</td>\n",
       "      <td>...</td>\n",
       "      <td>...</td>\n",
       "      <td>...</td>\n",
       "      <td>...</td>\n",
       "      <td>...</td>\n",
       "    </tr>\n",
       "    <tr>\n",
       "      <th>315</th>\n",
       "      <td>1</td>\n",
       "      <td>0.0</td>\n",
       "      <td>430</td>\n",
       "      <td>2014</td>\n",
       "      <td>12</td>\n",
       "      <td>21</td>\n",
       "      <td>14</td>\n",
       "      <td>6</td>\n",
       "      <td>0</td>\n",
       "    </tr>\n",
       "    <tr>\n",
       "      <th>316</th>\n",
       "      <td>2</td>\n",
       "      <td>53.0</td>\n",
       "      <td>20</td>\n",
       "      <td>2014</td>\n",
       "      <td>12</td>\n",
       "      <td>21</td>\n",
       "      <td>14</td>\n",
       "      <td>6</td>\n",
       "      <td>0</td>\n",
       "    </tr>\n",
       "    <tr>\n",
       "      <th>317</th>\n",
       "      <td>3</td>\n",
       "      <td>-1.0</td>\n",
       "      <td>207</td>\n",
       "      <td>2014</td>\n",
       "      <td>12</td>\n",
       "      <td>21</td>\n",
       "      <td>14</td>\n",
       "      <td>6</td>\n",
       "      <td>0</td>\n",
       "    </tr>\n",
       "    <tr>\n",
       "      <th>318</th>\n",
       "      <td>1</td>\n",
       "      <td>0.0</td>\n",
       "      <td>667</td>\n",
       "      <td>2014</td>\n",
       "      <td>12</td>\n",
       "      <td>21</td>\n",
       "      <td>14</td>\n",
       "      <td>6</td>\n",
       "      <td>0</td>\n",
       "    </tr>\n",
       "    <tr>\n",
       "      <th>319</th>\n",
       "      <td>1</td>\n",
       "      <td>0.0</td>\n",
       "      <td>255</td>\n",
       "      <td>2014</td>\n",
       "      <td>12</td>\n",
       "      <td>21</td>\n",
       "      <td>14</td>\n",
       "      <td>6</td>\n",
       "      <td>0</td>\n",
       "    </tr>\n",
       "  </tbody>\n",
       "</table>\n",
       "<p>320 rows × 9 columns</p>\n",
       "</div>"
      ],
      "text/plain": [
       "     CALL_TYPE  ORIGIN_STAND  TAXI_ID    YR  MON  DAY  HR  WK  HOLIDAY\n",
       "0            2          15.0      542  2014    8   14  17   3        1\n",
       "1            2          57.0      108  2014    8   14  17   3        1\n",
       "2            2          15.0      370  2014    8   14  17   3        1\n",
       "3            2          53.0      492  2014    8   14  17   3        1\n",
       "4            2          18.0      621  2014    8   14  17   3        1\n",
       "..         ...           ...      ...   ...  ...  ...  ..  ..      ...\n",
       "315          1           0.0      430  2014   12   21  14   6        0\n",
       "316          2          53.0       20  2014   12   21  14   6        0\n",
       "317          3          -1.0      207  2014   12   21  14   6        0\n",
       "318          1           0.0      667  2014   12   21  14   6        0\n",
       "319          1           0.0      255  2014   12   21  14   6        0\n",
       "\n",
       "[320 rows x 9 columns]"
      ]
     },
     "execution_count": 93,
     "metadata": {},
     "output_type": "execute_result"
    }
   ],
   "source": [
    "test"
   ]
  },
  {
   "cell_type": "code",
   "execution_count": 94,
   "id": "cc229ed3",
   "metadata": {},
   "outputs": [],
   "source": [
    "s = StandardScaler()\n",
    "X = s.fit_transform(test)\n",
    "test_input = torch.tensor(X, dtype=torch.float32).to(device)"
   ]
  },
  {
   "cell_type": "code",
   "execution_count": 95,
   "id": "6f7784f6",
   "metadata": {},
   "outputs": [
    {
     "data": {
      "text/plain": [
       "<All keys matched successfully>"
      ]
     },
     "execution_count": 95,
     "metadata": {},
     "output_type": "execute_result"
    }
   ],
   "source": [
    "model.load_state_dict(best_weights)"
   ]
  },
  {
   "cell_type": "code",
   "execution_count": 96,
   "id": "8e8e6af6",
   "metadata": {},
   "outputs": [],
   "source": [
    "torch.save(best_weights, 'weight.pt')"
   ]
  },
  {
   "cell_type": "code",
   "execution_count": 97,
   "id": "896508d2",
   "metadata": {},
   "outputs": [
    {
     "data": {
      "text/plain": [
       "<All keys matched successfully>"
      ]
     },
     "execution_count": 97,
     "metadata": {},
     "output_type": "execute_result"
    }
   ],
   "source": [
    "model.load_state_dict(torch.load('weight.pt'))"
   ]
  },
  {
   "cell_type": "code",
   "execution_count": 98,
   "id": "2294b1a3",
   "metadata": {},
   "outputs": [],
   "source": [
    "pred = model(test_input).cpu().detach().numpy().transpose()[0]"
   ]
  },
  {
   "cell_type": "code",
   "execution_count": 99,
   "id": "cbf55fee",
   "metadata": {},
   "outputs": [
    {
     "data": {
      "text/plain": [
       "array([603.6244 , 585.41064, 600.5973 , 592.3039 , 610.1202 , 651.81384,\n",
       "       599.9609 , 651.89966, 602.7103 , 600.1412 ], dtype=float32)"
      ]
     },
     "execution_count": 99,
     "metadata": {},
     "output_type": "execute_result"
    }
   ],
   "source": [
    "pred[:10]"
   ]
  },
  {
   "cell_type": "code",
   "execution_count": 100,
   "id": "023f211f",
   "metadata": {},
   "outputs": [],
   "source": [
    "tid['TRAVEL_TIME'] = pred"
   ]
  },
  {
   "cell_type": "code",
   "execution_count": 101,
   "id": "b8760352",
   "metadata": {},
   "outputs": [
    {
     "data": {
      "text/html": [
       "<div>\n",
       "<style scoped>\n",
       "    .dataframe tbody tr th:only-of-type {\n",
       "        vertical-align: middle;\n",
       "    }\n",
       "\n",
       "    .dataframe tbody tr th {\n",
       "        vertical-align: top;\n",
       "    }\n",
       "\n",
       "    .dataframe thead th {\n",
       "        text-align: right;\n",
       "    }\n",
       "</style>\n",
       "<table border=\"1\" class=\"dataframe\">\n",
       "  <thead>\n",
       "    <tr style=\"text-align: right;\">\n",
       "      <th></th>\n",
       "      <th>TRIP_ID</th>\n",
       "      <th>TRAVEL_TIME</th>\n",
       "    </tr>\n",
       "  </thead>\n",
       "  <tbody>\n",
       "    <tr>\n",
       "      <th>0</th>\n",
       "      <td>T1</td>\n",
       "      <td>603.624390</td>\n",
       "    </tr>\n",
       "    <tr>\n",
       "      <th>1</th>\n",
       "      <td>T2</td>\n",
       "      <td>585.410645</td>\n",
       "    </tr>\n",
       "    <tr>\n",
       "      <th>2</th>\n",
       "      <td>T3</td>\n",
       "      <td>600.597290</td>\n",
       "    </tr>\n",
       "    <tr>\n",
       "      <th>3</th>\n",
       "      <td>T4</td>\n",
       "      <td>592.303894</td>\n",
       "    </tr>\n",
       "    <tr>\n",
       "      <th>4</th>\n",
       "      <td>T5</td>\n",
       "      <td>610.120178</td>\n",
       "    </tr>\n",
       "    <tr>\n",
       "      <th>...</th>\n",
       "      <td>...</td>\n",
       "      <td>...</td>\n",
       "    </tr>\n",
       "    <tr>\n",
       "      <th>315</th>\n",
       "      <td>T323</td>\n",
       "      <td>648.340210</td>\n",
       "    </tr>\n",
       "    <tr>\n",
       "      <th>316</th>\n",
       "      <td>T324</td>\n",
       "      <td>594.695496</td>\n",
       "    </tr>\n",
       "    <tr>\n",
       "      <th>317</th>\n",
       "      <td>T325</td>\n",
       "      <td>584.640015</td>\n",
       "    </tr>\n",
       "    <tr>\n",
       "      <th>318</th>\n",
       "      <td>T326</td>\n",
       "      <td>648.340210</td>\n",
       "    </tr>\n",
       "    <tr>\n",
       "      <th>319</th>\n",
       "      <td>T327</td>\n",
       "      <td>648.340210</td>\n",
       "    </tr>\n",
       "  </tbody>\n",
       "</table>\n",
       "<p>320 rows × 2 columns</p>\n",
       "</div>"
      ],
      "text/plain": [
       "    TRIP_ID  TRAVEL_TIME\n",
       "0        T1   603.624390\n",
       "1        T2   585.410645\n",
       "2        T3   600.597290\n",
       "3        T4   592.303894\n",
       "4        T5   610.120178\n",
       "..      ...          ...\n",
       "315    T323   648.340210\n",
       "316    T324   594.695496\n",
       "317    T325   584.640015\n",
       "318    T326   648.340210\n",
       "319    T327   648.340210\n",
       "\n",
       "[320 rows x 2 columns]"
      ]
     },
     "execution_count": 101,
     "metadata": {},
     "output_type": "execute_result"
    }
   ],
   "source": [
    "tid"
   ]
  },
  {
   "cell_type": "code",
   "execution_count": 102,
   "id": "d7907f12",
   "metadata": {},
   "outputs": [
    {
     "data": {
      "text/plain": [
       "(array([19., 78., 53., 83., 21.,  9., 53.,  2.,  0.,  2.]),\n",
       " array([563.13617, 584.8678 , 606.59937, 628.33093, 650.06256, 671.7942 ,\n",
       "        693.52576, 715.2573 , 736.98895, 758.7206 , 780.45215],\n",
       "       dtype=float32),\n",
       " <BarContainer object of 10 artists>)"
      ]
     },
     "execution_count": 102,
     "metadata": {},
     "output_type": "execute_result"
    },
    {
     "data": {
      "image/png": "[encoded data removed]",
      "text/plain": [
       "<Figure size 432x288 with 1 Axes>"
      ]
     },
     "metadata": {
      "needs_background": "light"
     },
     "output_type": "display_data"
    }
   ],
   "source": [
    "plt.hist(tid['TRAVEL_TIME'])"
   ]
  },
  {
   "cell_type": "code",
   "execution_count": 103,
   "id": "2a66ad2c",
   "metadata": {},
   "outputs": [],
   "source": [
    "tid.to_csv('submission3.csv',index=False)"
   ]
  },
  {
   "cell_type": "code",
   "execution_count": 104,
   "id": "f50f0423",
   "metadata": {},
   "outputs": [],
   "source": [
    "old_tid = pd.read_csv('sampSubmission3.csv')"
   ]
  },
  {
   "cell_type": "code",
   "execution_count": 105,
   "id": "38ebc0c4",
   "metadata": {},
   "outputs": [
    {
     "data": {
      "text/plain": [
       "(array([ 10.,  60.,  58., 115.,  31.,  22.,  16.,   5.,   1.,   2.]),\n",
       " array([ 499.83224 ,  557.743796,  615.655352,  673.566908,  731.478464,\n",
       "         789.39002 ,  847.301576,  905.213132,  963.124688, 1021.036244,\n",
       "        1078.9478  ]),\n",
       " <BarContainer object of 10 artists>)"
      ]
     },
     "execution_count": 105,
     "metadata": {},
     "output_type": "execute_result"
    },
    {
     "data": {
      "image/png": "[encoded data removed]",
      "text/plain": [
       "<Figure size 432x288 with 1 Axes>"
      ]
     },
     "metadata": {
      "needs_background": "light"
     },
     "output_type": "display_data"
    }
   ],
   "source": [
    "plt.hist(old_tid['TRAVEL_TIME'])"
   ]
  },
  {
   "cell_type": "code",
   "execution_count": null,
   "id": "03399a71",
   "metadata": {},
   "outputs": [],
   "source": []
  }
 ],
 "metadata": {
  "kernelspec": {
   "display_name": "Python 3 (ipykernel)",
   "language": "python",
   "name": "python3"
  },
  "language_info": {
   "codemirror_mode": {
    "name": "ipython",
    "version": 3
   },
   "file_extension": ".py",
   "mimetype": "text/x-python",
   "name": "python",
   "nbconvert_exporter": "python",
   "pygments_lexer": "ipython3",
   "version": "3.9.5"
  }
 },
 "nbformat": 4,
 "nbformat_minor": 5
}
