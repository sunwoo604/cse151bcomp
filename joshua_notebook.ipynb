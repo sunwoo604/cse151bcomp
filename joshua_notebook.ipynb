{
 "cells": [
  {
   "cell_type": "code",
   "execution_count": 128,
   "id": "18417b18",
   "metadata": {},
   "outputs": [],
   "source": [
    "import torch\n",
    "import torchvision\n",
    "import pandas as pd\n",
    "import torchvision.transforms as transforms\n",
    "import torch.nn as nn\n",
    "import torch.nn.functional as F\n",
    "import numpy as np\n",
    "import torch.optim as optim\n",
    "import tqdm \n",
    "import copy\n",
    "import os\n",
    "import matplotlib.pyplot as plt\n",
    "from sklearn.preprocessing import OneHotEncoder\n",
    "import re"
   ]
  },
  {
   "cell_type": "code",
   "execution_count": 215,
   "id": "d9d63f9c",
   "metadata": {},
   "outputs": [],
   "source": [
    "train = pd.read_csv('train.csv')\n",
    "test = pd.read_csv('test.csv')"
   ]
  },
  {
   "cell_type": "code",
   "execution_count": 216,
   "id": "8abbb3d3",
   "metadata": {},
   "outputs": [],
   "source": [
    "def polyline_to_trip_duration(polyline):\n",
    "    return max(polyline.count(\"[\") - 2, 0) * 15\n",
    "\n",
    "train[\"LEN\"] = train[\"POLYLINE\"].apply(polyline_to_trip_duration)"
   ]
  },
  {
   "cell_type": "code",
   "execution_count": 217,
   "id": "315e8450",
   "metadata": {},
   "outputs": [],
   "source": [
    "train = train.sort_values('TIMESTAMP')"
   ]
  },
  {
   "cell_type": "code",
   "execution_count": 218,
   "id": "5e6655dc",
   "metadata": {},
   "outputs": [],
   "source": [
    "from datetime import datetime\n",
    "def parse_time(x):\n",
    "    dt = datetime.fromtimestamp(x[\"TIMESTAMP\"])\n",
    "    return dt.year, dt.month, dt.day, dt.hour, dt.weekday()\n",
    "\n",
    "train[[\"YR\", \"MON\", \"DAY\", \"HR\", \"WK\"]] = train[[\"TIMESTAMP\"]].apply(parse_time, axis=1, result_type=\"expand\")"
   ]
  },
  {
   "cell_type": "code",
   "execution_count": 219,
   "id": "0ece2965",
   "metadata": {},
   "outputs": [],
   "source": [
    "train = train.drop(['TRIP_ID', 'DAY_TYPE', 'TIMESTAMP', 'ORIGIN_CALL'], axis=1)\n",
    "train = train[train['LEN']!=0]\n",
    "train['MISSING_DATA'] = train['MISSING_DATA'].replace({True:1, False:0})\n",
    "train['CALL_TYPE'] = train['CALL_TYPE'].replace({'A':1, 'B':2, 'C':3})\n",
    "train.loc[train['CALL_TYPE']==1, ['ORIGIN_STAND']] = 0\n",
    "train.loc[train['CALL_TYPE']==3, ['ORIGIN_STAND']] = -1"
   ]
  },
  {
   "cell_type": "code",
   "execution_count": 220,
   "id": "b7275a31",
   "metadata": {},
   "outputs": [],
   "source": [
    "train.dropna(inplace=True)"
   ]
  },
  {
   "cell_type": "code",
   "execution_count": 221,
   "id": "af0feb9c",
   "metadata": {},
   "outputs": [],
   "source": [
    "train['TAXI_ID'] = train['TAXI_ID'].apply(lambda x: int(str(x)[-4:]))"
   ]
  },
  {
   "cell_type": "code",
   "execution_count": 222,
   "id": "ecbd40f9",
   "metadata": {},
   "outputs": [
    {
     "data": {
      "text/html": [
       "<div>\n",
       "<style scoped>\n",
       "    .dataframe tbody tr th:only-of-type {\n",
       "        vertical-align: middle;\n",
       "    }\n",
       "\n",
       "    .dataframe tbody tr th {\n",
       "        vertical-align: top;\n",
       "    }\n",
       "\n",
       "    .dataframe thead th {\n",
       "        text-align: right;\n",
       "    }\n",
       "</style>\n",
       "<table border=\"1\" class=\"dataframe\">\n",
       "  <thead>\n",
       "    <tr style=\"text-align: right;\">\n",
       "      <th></th>\n",
       "      <th>CALL_TYPE</th>\n",
       "      <th>ORIGIN_STAND</th>\n",
       "      <th>TAXI_ID</th>\n",
       "      <th>MISSING_DATA</th>\n",
       "      <th>POLYLINE</th>\n",
       "      <th>LEN</th>\n",
       "      <th>YR</th>\n",
       "      <th>MON</th>\n",
       "      <th>DAY</th>\n",
       "      <th>HR</th>\n",
       "      <th>WK</th>\n",
       "    </tr>\n",
       "  </thead>\n",
       "  <tbody>\n",
       "    <tr>\n",
       "      <th>577</th>\n",
       "      <td>3</td>\n",
       "      <td>-1.0</td>\n",
       "      <td>380</td>\n",
       "      <td>0</td>\n",
       "      <td>[[-8.610291,41.140746],[-8.6103,41.140755],[-8...</td>\n",
       "      <td>360</td>\n",
       "      <td>2013</td>\n",
       "      <td>7</td>\n",
       "      <td>1</td>\n",
       "      <td>0</td>\n",
       "      <td>0</td>\n",
       "    </tr>\n",
       "    <tr>\n",
       "      <th>3</th>\n",
       "      <td>3</td>\n",
       "      <td>-1.0</td>\n",
       "      <td>520</td>\n",
       "      <td>0</td>\n",
       "      <td>[[-8.574678,41.151951],[-8.574705,41.151942],[...</td>\n",
       "      <td>630</td>\n",
       "      <td>2013</td>\n",
       "      <td>7</td>\n",
       "      <td>1</td>\n",
       "      <td>0</td>\n",
       "      <td>0</td>\n",
       "    </tr>\n",
       "    <tr>\n",
       "      <th>0</th>\n",
       "      <td>3</td>\n",
       "      <td>-1.0</td>\n",
       "      <td>589</td>\n",
       "      <td>0</td>\n",
       "      <td>[[-8.618643,41.141412],[-8.618499,41.141376],[...</td>\n",
       "      <td>330</td>\n",
       "      <td>2013</td>\n",
       "      <td>7</td>\n",
       "      <td>1</td>\n",
       "      <td>0</td>\n",
       "      <td>0</td>\n",
       "    </tr>\n",
       "    <tr>\n",
       "      <th>10</th>\n",
       "      <td>3</td>\n",
       "      <td>-1.0</td>\n",
       "      <td>233</td>\n",
       "      <td>0</td>\n",
       "      <td>[[-8.619894,41.148009],[-8.620164,41.14773],[-...</td>\n",
       "      <td>315</td>\n",
       "      <td>2013</td>\n",
       "      <td>7</td>\n",
       "      <td>1</td>\n",
       "      <td>0</td>\n",
       "      <td>0</td>\n",
       "    </tr>\n",
       "    <tr>\n",
       "      <th>64</th>\n",
       "      <td>3</td>\n",
       "      <td>-1.0</td>\n",
       "      <td>360</td>\n",
       "      <td>0</td>\n",
       "      <td>[[-8.617599,41.146137],[-8.617581,41.14593],[-...</td>\n",
       "      <td>630</td>\n",
       "      <td>2013</td>\n",
       "      <td>7</td>\n",
       "      <td>1</td>\n",
       "      <td>0</td>\n",
       "      <td>0</td>\n",
       "    </tr>\n",
       "  </tbody>\n",
       "</table>\n",
       "</div>"
      ],
      "text/plain": [
       "     CALL_TYPE  ORIGIN_STAND  TAXI_ID  MISSING_DATA  \\\n",
       "577          3          -1.0      380             0   \n",
       "3            3          -1.0      520             0   \n",
       "0            3          -1.0      589             0   \n",
       "10           3          -1.0      233             0   \n",
       "64           3          -1.0      360             0   \n",
       "\n",
       "                                              POLYLINE  LEN    YR  MON  DAY  \\\n",
       "577  [[-8.610291,41.140746],[-8.6103,41.140755],[-8...  360  2013    7    1   \n",
       "3    [[-8.574678,41.151951],[-8.574705,41.151942],[...  630  2013    7    1   \n",
       "0    [[-8.618643,41.141412],[-8.618499,41.141376],[...  330  2013    7    1   \n",
       "10   [[-8.619894,41.148009],[-8.620164,41.14773],[-...  315  2013    7    1   \n",
       "64   [[-8.617599,41.146137],[-8.617581,41.14593],[-...  630  2013    7    1   \n",
       "\n",
       "     HR  WK  \n",
       "577   0   0  \n",
       "3     0   0  \n",
       "0     0   0  \n",
       "10    0   0  \n",
       "64    0   0  "
      ]
     },
     "execution_count": 222,
     "metadata": {},
     "output_type": "execute_result"
    }
   ],
   "source": [
    "train.head()"
   ]
  },
  {
   "cell_type": "code",
   "execution_count": 223,
   "id": "28991a16",
   "metadata": {},
   "outputs": [
    {
     "name": "stdout",
     "output_type": "stream",
     "text": [
      "mean=731.8313913107795 median=615.0 std=684.3600032077169\n"
     ]
    }
   ],
   "source": [
    "mean, std = train[\"LEN\"].mean(), train[\"LEN\"].std()\n",
    "median = train[\"LEN\"].median()\n",
    "print(f\"{mean=} {median=} {std=}\")"
   ]
  },
  {
   "cell_type": "code",
   "execution_count": 224,
   "id": "2bd8d8b1",
   "metadata": {},
   "outputs": [],
   "source": [
    "outlier_threshold = 3\n",
    "df_trimmed = train[train[\"LEN\"] < mean + outlier_threshold * std]"
   ]
  },
  {
   "cell_type": "code",
   "execution_count": 225,
   "id": "2a5e6010",
   "metadata": {},
   "outputs": [
    {
     "name": "stdout",
     "output_type": "stream",
     "text": [
      "mean=686.8394802192312 median=615.0 std=397.85808320953936\n"
     ]
    }
   ],
   "source": [
    "mean, std = df_trimmed[\"LEN\"].mean(), df_trimmed[\"LEN\"].std()\n",
    "median = df_trimmed[\"LEN\"].median()\n",
    "print(f\"{mean=} {median=} {std=}\")"
   ]
  },
  {
   "cell_type": "code",
   "execution_count": 226,
   "id": "194f83de",
   "metadata": {},
   "outputs": [],
   "source": [
    "import torch\n",
    "import torch.nn as nn\n",
    "import torch.optim as optim\n",
    "from sklearn.preprocessing import StandardScaler\n",
    "from sklearn.model_selection import train_test_split"
   ]
  },
  {
   "cell_type": "code",
   "execution_count": 227,
   "id": "3c0daaa0",
   "metadata": {},
   "outputs": [
    {
     "data": {
      "text/plain": [
       "device(type='cuda')"
      ]
     },
     "execution_count": 227,
     "metadata": {},
     "output_type": "execute_result"
    }
   ],
   "source": [
    "device = torch.device(\"cuda\" if torch.cuda.is_available() else \"cpu\")\n",
    "device"
   ]
  },
  {
   "cell_type": "code",
   "execution_count": 228,
   "id": "fe9713d2",
   "metadata": {},
   "outputs": [],
   "source": [
    "train = df_trimmed.drop(columns=['POLYLINE'])"
   ]
  },
  {
   "cell_type": "code",
   "execution_count": 229,
   "id": "44dede14",
   "metadata": {},
   "outputs": [],
   "source": [
    "s = StandardScaler()\n",
    "X = s.fit_transform(train.drop(columns=['LEN']))\n",
    "y = train['LEN']"
   ]
  },
  {
   "cell_type": "code",
   "execution_count": 230,
   "id": "0a449a7c",
   "metadata": {},
   "outputs": [],
   "source": [
    "X_train, X_test, y_train, y_test  = train_test_split(X, y, test_size = 0.5)"
   ]
  },
  {
   "cell_type": "code",
   "execution_count": 231,
   "id": "b422a229",
   "metadata": {},
   "outputs": [],
   "source": [
    "X_train = torch.tensor(X_train, dtype=torch.float32).to(device)\n",
    "y_train = torch.tensor(y_train.values, dtype=torch.float32).reshape(-1, 1).to(device)\n",
    "X_test = torch.tensor(X_test, dtype=torch.float32).to(device)\n",
    "y_test = torch.tensor(y_test.values, dtype=torch.float32).reshape(-1, 1).to(device)"
   ]
  },
  {
   "cell_type": "code",
   "execution_count": 232,
   "id": "5fdaf76e",
   "metadata": {},
   "outputs": [
    {
     "data": {
      "text/plain": [
       "torch.Size([822693, 9])"
      ]
     },
     "execution_count": 232,
     "metadata": {},
     "output_type": "execute_result"
    }
   ],
   "source": [
    "X_train.shape"
   ]
  },
  {
   "cell_type": "code",
   "execution_count": 233,
   "id": "9d3caac3",
   "metadata": {},
   "outputs": [],
   "source": [
    "model = nn.Sequential(\n",
    "    nn.Linear(9, 27),\n",
    "    nn.ReLU(),\n",
    "    nn.Dropout(p=0.3),\n",
    "    nn.BatchNorm1d(27),\n",
    "    nn.Linear(27, 9),\n",
    "    nn.ReLU(),\n",
    "    nn.Dropout(p=0.3),\n",
    "    nn.BatchNorm1d(9),\n",
    "    nn.Linear(9, 1),\n",
    ").to(device)"
   ]
  },
  {
   "cell_type": "code",
   "execution_count": 234,
   "id": "5581c084",
   "metadata": {},
   "outputs": [],
   "source": [
    "loss_fn = nn.MSELoss()\n",
    "optimizer = optim.Adam(model.parameters(), lr=0.00001)"
   ]
  },
  {
   "cell_type": "code",
   "execution_count": 235,
   "id": "00b6e162",
   "metadata": {},
   "outputs": [],
   "source": [
    "from torch.optim.lr_scheduler import StepLR \n",
    "scheduler = StepLR(optimizer, step_size=10, gamma=0.1)"
   ]
  },
  {
   "cell_type": "code",
   "execution_count": 236,
   "id": "6d60e1d6",
   "metadata": {},
   "outputs": [],
   "source": [
    "save = {'w':None,'history':[],'mse':np.inf}"
   ]
  },
  {
   "cell_type": "code",
   "execution_count": 237,
   "id": "4d9f8d05",
   "metadata": {},
   "outputs": [],
   "source": [
    "n_epochs = 100   # number of epochs to run\n",
    "batch_size = 256  # size of each batch\n",
    "batch_start = torch.arange(0, len(X_train), batch_size)"
   ]
  },
  {
   "cell_type": "code",
   "execution_count": 238,
   "id": "73129adb",
   "metadata": {},
   "outputs": [],
   "source": [
    "best_mse = save['mse']  # init to infinity\n",
    "best_weights = save['w']\n",
    "history_train = []\n",
    "history_test = []"
   ]
  },
  {
   "cell_type": "code",
   "execution_count": null,
   "id": "fc7dc680",
   "metadata": {},
   "outputs": [
    {
     "name": "stderr",
     "output_type": "stream",
     "text": [
      " 58%|█████▊    | 58/100 [08:18<05:58,  8.53s/it]"
     ]
    }
   ],
   "source": [
    "for epoch in tqdm.tqdm(range(n_epochs)):\n",
    "    model.train()\n",
    "    bar = tqdm.tqdm(batch_start, unit=\"batch\", mininterval=0, disable=True)\n",
    "    for start in bar:\n",
    "        # take a batch\n",
    "        X_batch = X_train[start:start+batch_size]\n",
    "        y_batch = y_train[start:start+batch_size]\n",
    "        # forward pass\n",
    "        y_pred = model(X_batch)\n",
    "        a = y_pred.cpu().detach().numpy().transpose()[0]\n",
    "        loss = loss_fn(y_pred, y_batch)\n",
    "        # backward pass\n",
    "        optimizer.zero_grad()\n",
    "        loss.backward()\n",
    "        # update weights\n",
    "        optimizer.step()\n",
    "        # print progress\n",
    "    # evaluate accuracy at end of each epoch\n",
    "    #scheduler.step()\n",
    "    train_pred = model(X_train)\n",
    "    history_train.append(float(loss_fn(train_pred, y_train)))\n",
    "    model.eval()\n",
    "    y_pred = model(X_test)\n",
    "    mse = loss_fn(y_pred, y_test)\n",
    "    mse = float(mse)\n",
    "    history_test.append(mse)\n",
    "    if mse < best_mse:\n",
    "        best_mse = mse\n",
    "        best_weights = copy.deepcopy(model.state_dict())"
   ]
  },
  {
   "cell_type": "code",
   "execution_count": null,
   "id": "129443a4",
   "metadata": {},
   "outputs": [],
   "source": [
    "# Plotting both the curves simultaneously\n",
    "plt.plot(np.sqrt(history_train), color='r', label='train')\n",
    "plt.plot(np.sqrt(history_test), color='g', label='test')\n",
    "  \n",
    "# Naming the x-axis, y-axis and the whole graph\n",
    "plt.xlabel(\"Epoch\")\n",
    "plt.ylabel(\"Loss\")\n",
    "  \n",
    "# Adding legend, which helps us recognize the curve according to it's color\n",
    "plt.legend()\n",
    "  \n",
    "# To load the display window\n",
    "plt.show()"
   ]
  },
  {
   "cell_type": "code",
   "execution_count": 194,
   "id": "fe7b3094",
   "metadata": {},
   "outputs": [],
   "source": [
    "test = pd.read_csv('test.csv')"
   ]
  },
  {
   "cell_type": "code",
   "execution_count": 195,
   "id": "e8056458",
   "metadata": {},
   "outputs": [],
   "source": [
    "tid =  test[['TRIP_ID']]"
   ]
  },
  {
   "cell_type": "code",
   "execution_count": 196,
   "id": "c50f7b6a",
   "metadata": {},
   "outputs": [],
   "source": [
    "test[[\"YR\", \"MON\", \"DAY\", \"HR\", \"WK\"]] = test[[\"TIMESTAMP\"]].apply(parse_time, axis=1, result_type=\"expand\")"
   ]
  },
  {
   "cell_type": "code",
   "execution_count": 197,
   "id": "be9c0dce",
   "metadata": {},
   "outputs": [],
   "source": [
    "test = test.drop(['TRIP_ID', 'DAY_TYPE', 'TIMESTAMP', 'ORIGIN_CALL'], axis=1)\n",
    "test['MISSING_DATA'] = test['MISSING_DATA'].replace({True:1, False:0})\n",
    "test['CALL_TYPE'] = test['CALL_TYPE'].replace({'A':1, 'B':2, 'C':3})\n",
    "test.loc[test['CALL_TYPE']==1, ['ORIGIN_STAND']] = 0\n",
    "test.loc[test['CALL_TYPE']==3, ['ORIGIN_STAND']] = -1"
   ]
  },
  {
   "cell_type": "code",
   "execution_count": 198,
   "id": "21039697",
   "metadata": {},
   "outputs": [],
   "source": [
    "test['TAXI_ID'] = test['TAXI_ID'].apply(lambda x: int(str(x)[-4:]))"
   ]
  },
  {
   "cell_type": "code",
   "execution_count": 199,
   "id": "c6c19a7f",
   "metadata": {},
   "outputs": [
    {
     "data": {
      "text/html": [
       "<div>\n",
       "<style scoped>\n",
       "    .dataframe tbody tr th:only-of-type {\n",
       "        vertical-align: middle;\n",
       "    }\n",
       "\n",
       "    .dataframe tbody tr th {\n",
       "        vertical-align: top;\n",
       "    }\n",
       "\n",
       "    .dataframe thead th {\n",
       "        text-align: right;\n",
       "    }\n",
       "</style>\n",
       "<table border=\"1\" class=\"dataframe\">\n",
       "  <thead>\n",
       "    <tr style=\"text-align: right;\">\n",
       "      <th></th>\n",
       "      <th>CALL_TYPE</th>\n",
       "      <th>ORIGIN_STAND</th>\n",
       "      <th>TAXI_ID</th>\n",
       "      <th>MISSING_DATA</th>\n",
       "      <th>YR</th>\n",
       "      <th>MON</th>\n",
       "      <th>DAY</th>\n",
       "      <th>HR</th>\n",
       "      <th>WK</th>\n",
       "    </tr>\n",
       "  </thead>\n",
       "  <tbody>\n",
       "    <tr>\n",
       "      <th>0</th>\n",
       "      <td>2</td>\n",
       "      <td>15.0</td>\n",
       "      <td>542</td>\n",
       "      <td>0</td>\n",
       "      <td>2014</td>\n",
       "      <td>8</td>\n",
       "      <td>14</td>\n",
       "      <td>17</td>\n",
       "      <td>3</td>\n",
       "    </tr>\n",
       "    <tr>\n",
       "      <th>1</th>\n",
       "      <td>2</td>\n",
       "      <td>57.0</td>\n",
       "      <td>108</td>\n",
       "      <td>0</td>\n",
       "      <td>2014</td>\n",
       "      <td>8</td>\n",
       "      <td>14</td>\n",
       "      <td>17</td>\n",
       "      <td>3</td>\n",
       "    </tr>\n",
       "    <tr>\n",
       "      <th>2</th>\n",
       "      <td>2</td>\n",
       "      <td>15.0</td>\n",
       "      <td>370</td>\n",
       "      <td>0</td>\n",
       "      <td>2014</td>\n",
       "      <td>8</td>\n",
       "      <td>14</td>\n",
       "      <td>17</td>\n",
       "      <td>3</td>\n",
       "    </tr>\n",
       "    <tr>\n",
       "      <th>3</th>\n",
       "      <td>2</td>\n",
       "      <td>53.0</td>\n",
       "      <td>492</td>\n",
       "      <td>0</td>\n",
       "      <td>2014</td>\n",
       "      <td>8</td>\n",
       "      <td>14</td>\n",
       "      <td>17</td>\n",
       "      <td>3</td>\n",
       "    </tr>\n",
       "    <tr>\n",
       "      <th>4</th>\n",
       "      <td>2</td>\n",
       "      <td>18.0</td>\n",
       "      <td>621</td>\n",
       "      <td>0</td>\n",
       "      <td>2014</td>\n",
       "      <td>8</td>\n",
       "      <td>14</td>\n",
       "      <td>17</td>\n",
       "      <td>3</td>\n",
       "    </tr>\n",
       "    <tr>\n",
       "      <th>...</th>\n",
       "      <td>...</td>\n",
       "      <td>...</td>\n",
       "      <td>...</td>\n",
       "      <td>...</td>\n",
       "      <td>...</td>\n",
       "      <td>...</td>\n",
       "      <td>...</td>\n",
       "      <td>...</td>\n",
       "      <td>...</td>\n",
       "    </tr>\n",
       "    <tr>\n",
       "      <th>315</th>\n",
       "      <td>1</td>\n",
       "      <td>0.0</td>\n",
       "      <td>430</td>\n",
       "      <td>0</td>\n",
       "      <td>2014</td>\n",
       "      <td>12</td>\n",
       "      <td>21</td>\n",
       "      <td>14</td>\n",
       "      <td>6</td>\n",
       "    </tr>\n",
       "    <tr>\n",
       "      <th>316</th>\n",
       "      <td>2</td>\n",
       "      <td>53.0</td>\n",
       "      <td>20</td>\n",
       "      <td>0</td>\n",
       "      <td>2014</td>\n",
       "      <td>12</td>\n",
       "      <td>21</td>\n",
       "      <td>14</td>\n",
       "      <td>6</td>\n",
       "    </tr>\n",
       "    <tr>\n",
       "      <th>317</th>\n",
       "      <td>3</td>\n",
       "      <td>-1.0</td>\n",
       "      <td>207</td>\n",
       "      <td>0</td>\n",
       "      <td>2014</td>\n",
       "      <td>12</td>\n",
       "      <td>21</td>\n",
       "      <td>14</td>\n",
       "      <td>6</td>\n",
       "    </tr>\n",
       "    <tr>\n",
       "      <th>318</th>\n",
       "      <td>1</td>\n",
       "      <td>0.0</td>\n",
       "      <td>667</td>\n",
       "      <td>0</td>\n",
       "      <td>2014</td>\n",
       "      <td>12</td>\n",
       "      <td>21</td>\n",
       "      <td>14</td>\n",
       "      <td>6</td>\n",
       "    </tr>\n",
       "    <tr>\n",
       "      <th>319</th>\n",
       "      <td>1</td>\n",
       "      <td>0.0</td>\n",
       "      <td>255</td>\n",
       "      <td>0</td>\n",
       "      <td>2014</td>\n",
       "      <td>12</td>\n",
       "      <td>21</td>\n",
       "      <td>14</td>\n",
       "      <td>6</td>\n",
       "    </tr>\n",
       "  </tbody>\n",
       "</table>\n",
       "<p>320 rows × 9 columns</p>\n",
       "</div>"
      ],
      "text/plain": [
       "     CALL_TYPE  ORIGIN_STAND  TAXI_ID  MISSING_DATA    YR  MON  DAY  HR  WK\n",
       "0            2          15.0      542             0  2014    8   14  17   3\n",
       "1            2          57.0      108             0  2014    8   14  17   3\n",
       "2            2          15.0      370             0  2014    8   14  17   3\n",
       "3            2          53.0      492             0  2014    8   14  17   3\n",
       "4            2          18.0      621             0  2014    8   14  17   3\n",
       "..         ...           ...      ...           ...   ...  ...  ...  ..  ..\n",
       "315          1           0.0      430             0  2014   12   21  14   6\n",
       "316          2          53.0       20             0  2014   12   21  14   6\n",
       "317          3          -1.0      207             0  2014   12   21  14   6\n",
       "318          1           0.0      667             0  2014   12   21  14   6\n",
       "319          1           0.0      255             0  2014   12   21  14   6\n",
       "\n",
       "[320 rows x 9 columns]"
      ]
     },
     "execution_count": 199,
     "metadata": {},
     "output_type": "execute_result"
    }
   ],
   "source": [
    "test"
   ]
  },
  {
   "cell_type": "code",
   "execution_count": 200,
   "id": "622f0667",
   "metadata": {},
   "outputs": [],
   "source": [
    "s = StandardScaler()\n",
    "X = s.fit_transform(test)\n",
    "test_input = torch.tensor(X, dtype=torch.float32).to(device)"
   ]
  },
  {
   "cell_type": "code",
   "execution_count": 201,
   "id": "c5f11972",
   "metadata": {},
   "outputs": [
    {
     "data": {
      "text/plain": [
       "<All keys matched successfully>"
      ]
     },
     "execution_count": 201,
     "metadata": {},
     "output_type": "execute_result"
    }
   ],
   "source": [
    "model.load_state_dict(best_weights)"
   ]
  },
  {
   "cell_type": "code",
   "execution_count": 202,
   "id": "2b8f0db8",
   "metadata": {},
   "outputs": [],
   "source": [
    "torch.save(best_weights, 'weight.pt')"
   ]
  },
  {
   "cell_type": "code",
   "execution_count": 203,
   "id": "2b5bd4f1",
   "metadata": {},
   "outputs": [
    {
     "data": {
      "text/plain": [
       "<All keys matched successfully>"
      ]
     },
     "execution_count": 203,
     "metadata": {},
     "output_type": "execute_result"
    }
   ],
   "source": [
    "model.load_state_dict(torch.load('weight.pt'))"
   ]
  },
  {
   "cell_type": "code",
   "execution_count": 204,
   "id": "16606427",
   "metadata": {},
   "outputs": [],
   "source": [
    "pred = model(test_input).cpu().detach().numpy().transpose()[0]"
   ]
  },
  {
   "cell_type": "code",
   "execution_count": 205,
   "id": "8c31ce49",
   "metadata": {},
   "outputs": [
    {
     "data": {
      "text/plain": [
       "array([394.59113, 385.59485, 393.82538, 390.1651 , 394.48267, 440.08148,\n",
       "       393.59802, 440.10446, 395.3473 , 393.6624 ], dtype=float32)"
      ]
     },
     "execution_count": 205,
     "metadata": {},
     "output_type": "execute_result"
    }
   ],
   "source": [
    "pred[:10]"
   ]
  },
  {
   "cell_type": "code",
   "execution_count": 206,
   "id": "6ff6ced7",
   "metadata": {},
   "outputs": [],
   "source": [
    "tid['TRAVEL_TIME'] = pred"
   ]
  },
  {
   "cell_type": "code",
   "execution_count": 207,
   "id": "68d9617c",
   "metadata": {},
   "outputs": [
    {
     "data": {
      "text/html": [
       "<div>\n",
       "<style scoped>\n",
       "    .dataframe tbody tr th:only-of-type {\n",
       "        vertical-align: middle;\n",
       "    }\n",
       "\n",
       "    .dataframe tbody tr th {\n",
       "        vertical-align: top;\n",
       "    }\n",
       "\n",
       "    .dataframe thead th {\n",
       "        text-align: right;\n",
       "    }\n",
       "</style>\n",
       "<table border=\"1\" class=\"dataframe\">\n",
       "  <thead>\n",
       "    <tr style=\"text-align: right;\">\n",
       "      <th></th>\n",
       "      <th>TRIP_ID</th>\n",
       "      <th>TRAVEL_TIME</th>\n",
       "    </tr>\n",
       "  </thead>\n",
       "  <tbody>\n",
       "    <tr>\n",
       "      <th>0</th>\n",
       "      <td>T1</td>\n",
       "      <td>394.591125</td>\n",
       "    </tr>\n",
       "    <tr>\n",
       "      <th>1</th>\n",
       "      <td>T2</td>\n",
       "      <td>385.594849</td>\n",
       "    </tr>\n",
       "    <tr>\n",
       "      <th>2</th>\n",
       "      <td>T3</td>\n",
       "      <td>393.825378</td>\n",
       "    </tr>\n",
       "    <tr>\n",
       "      <th>3</th>\n",
       "      <td>T4</td>\n",
       "      <td>390.165100</td>\n",
       "    </tr>\n",
       "    <tr>\n",
       "      <th>4</th>\n",
       "      <td>T5</td>\n",
       "      <td>394.482666</td>\n",
       "    </tr>\n",
       "    <tr>\n",
       "      <th>...</th>\n",
       "      <td>...</td>\n",
       "      <td>...</td>\n",
       "    </tr>\n",
       "    <tr>\n",
       "      <th>315</th>\n",
       "      <td>T323</td>\n",
       "      <td>434.756653</td>\n",
       "    </tr>\n",
       "    <tr>\n",
       "      <th>316</th>\n",
       "      <td>T324</td>\n",
       "      <td>395.893494</td>\n",
       "    </tr>\n",
       "    <tr>\n",
       "      <th>317</th>\n",
       "      <td>T325</td>\n",
       "      <td>394.424866</td>\n",
       "    </tr>\n",
       "    <tr>\n",
       "      <th>318</th>\n",
       "      <td>T326</td>\n",
       "      <td>434.756653</td>\n",
       "    </tr>\n",
       "    <tr>\n",
       "      <th>319</th>\n",
       "      <td>T327</td>\n",
       "      <td>434.756653</td>\n",
       "    </tr>\n",
       "  </tbody>\n",
       "</table>\n",
       "<p>320 rows × 2 columns</p>\n",
       "</div>"
      ],
      "text/plain": [
       "    TRIP_ID  TRAVEL_TIME\n",
       "0        T1   394.591125\n",
       "1        T2   385.594849\n",
       "2        T3   393.825378\n",
       "3        T4   390.165100\n",
       "4        T5   394.482666\n",
       "..      ...          ...\n",
       "315    T323   434.756653\n",
       "316    T324   395.893494\n",
       "317    T325   394.424866\n",
       "318    T326   434.756653\n",
       "319    T327   434.756653\n",
       "\n",
       "[320 rows x 2 columns]"
      ]
     },
     "execution_count": 207,
     "metadata": {},
     "output_type": "execute_result"
    }
   ],
   "source": [
    "tid"
   ]
  },
  {
   "cell_type": "code",
   "execution_count": 211,
   "id": "89e8c78c",
   "metadata": {},
   "outputs": [
    {
     "data": {
      "text/plain": [
       "(array([ 4.,  4.,  9., 53., 12., 65., 56., 63., 35., 19.]),\n",
       " array([282.12207, 302.81473, 323.50742, 344.20007, 364.89273, 385.5854 ,\n",
       "        406.27808, 426.97073, 447.6634 , 468.35608, 489.04874],\n",
       "       dtype=float32),\n",
       " <BarContainer object of 10 artists>)"
      ]
     },
     "execution_count": 211,
     "metadata": {},
     "output_type": "execute_result"
    },
    {
     "data": {
      "image/png": "[encoded data removed]",
      "text/plain": [
       "<Figure size 432x288 with 1 Axes>"
      ]
     },
     "metadata": {
      "needs_background": "light"
     },
     "output_type": "display_data"
    }
   ],
   "source": [
    "plt.hist(tid['TRAVEL_TIME'])"
   ]
  },
  {
   "cell_type": "code",
   "execution_count": 208,
   "id": "d8a8752a",
   "metadata": {},
   "outputs": [],
   "source": [
    "tid.to_csv('submission3.csv',index=False)"
   ]
  },
  {
   "cell_type": "code",
   "execution_count": 212,
   "id": "9195b354",
   "metadata": {},
   "outputs": [],
   "source": [
    "old_tid = pd.read_csv('sampSubmission3.csv')"
   ]
  },
  {
   "cell_type": "code",
   "execution_count": 213,
   "id": "f9a3b0f7",
   "metadata": {},
   "outputs": [
    {
     "data": {
      "text/plain": [
       "(array([ 10.,  60.,  58., 115.,  31.,  22.,  16.,   5.,   1.,   2.]),\n",
       " array([ 499.83224 ,  557.743796,  615.655352,  673.566908,  731.478464,\n",
       "         789.39002 ,  847.301576,  905.213132,  963.124688, 1021.036244,\n",
       "        1078.9478  ]),\n",
       " <BarContainer object of 10 artists>)"
      ]
     },
     "execution_count": 213,
     "metadata": {},
     "output_type": "execute_result"
    },
    {
     "data": {
      "image/png": "[encoded data removed]",
      "text/plain": [
       "<Figure size 432x288 with 1 Axes>"
      ]
     },
     "metadata": {
      "needs_background": "light"
     },
     "output_type": "display_data"
    }
   ],
   "source": [
    "plt.hist(old_tid['TRAVEL_TIME'])"
   ]
  },
  {
   "cell_type": "code",
   "execution_count": null,
   "id": "5aeb356f",
   "metadata": {},
   "outputs": [],
   "source": []
  }
 ],
 "metadata": {
  "kernelspec": {
   "display_name": "Python 3 (clean)",
   "language": "python",
   "name": "python3_clean"
  },
  "language_info": {
   "codemirror_mode": {
    "name": "ipython",
    "version": 3
   },
   "file_extension": ".py",
   "mimetype": "text/x-python",
   "name": "python",
   "nbconvert_exporter": "python",
   "pygments_lexer": "ipython3",
   "version": "3.9.5"
  }
 },
 "nbformat": 4,
 "nbformat_minor": 5
}
