{
 "cells": [
  {
   "cell_type": "code",
   "execution_count": 37,
   "id": "1564b4b5",
   "metadata": {},
   "outputs": [],
   "source": [
    "import torch\n",
    "import torchvision\n",
    "import pandas as pd\n",
    "import torchvision.transforms as transforms\n",
    "import torch.nn as nn\n",
    "import torch.nn.functional as F\n",
    "import numpy as np\n",
    "import torch.optim as optim\n",
    "import tqdm \n",
    "import copy\n",
    "import os\n",
    "import matplotlib.pyplot as plt"
   ]
  },
  {
   "cell_type": "code",
   "execution_count": 2,
   "id": "2ea8e57f",
   "metadata": {},
   "outputs": [],
   "source": [
    "train = pd.read_csv(\"train.csv\")\n",
    "meta = pd.read_csv('metaData_taxistandsID_name_GPSlocation.csv')"
   ]
  },
  {
   "cell_type": "code",
   "execution_count": 28,
   "id": "4819eeda",
   "metadata": {},
   "outputs": [],
   "source": [
    "test = pd.read_csv('test_public.csv')"
   ]
  },
  {
   "cell_type": "code",
   "execution_count": 5,
   "id": "f16673c7",
   "metadata": {},
   "outputs": [],
   "source": [
    "mapper = {'A':1,'B':2,'C':3}"
   ]
  },
  {
   "cell_type": "code",
   "execution_count": 29,
   "id": "0c496a02",
   "metadata": {},
   "outputs": [],
   "source": [
    "train = train.replace({\"CALL_TYPE\":mapper,\"DAY_TYPE\":mapper})\n",
    "test = test.replace({\"CALL_TYPE\":mapper,\"DAY_TYPE\":mapper})"
   ]
  },
  {
   "cell_type": "code",
   "execution_count": null,
   "id": "cba009a7",
   "metadata": {},
   "outputs": [],
   "source": [
    "## run this cell only if u dont have train_time.csv"
   ]
  },
  {
   "cell_type": "code",
   "execution_count": 14,
   "id": "d40c2acd",
   "metadata": {},
   "outputs": [],
   "source": [
    "time = train['POLYLINE'].apply(lambda x: (len(eval(x))-1)*15)"
   ]
  },
  {
   "cell_type": "code",
   "execution_count": 22,
   "id": "cfbc1a10",
   "metadata": {},
   "outputs": [],
   "source": [
    "time.to_csv('train_time.csv',index=False)"
   ]
  },
  {
   "cell_type": "code",
   "execution_count": null,
   "id": "0f2fbd07",
   "metadata": {},
   "outputs": [],
   "source": [
    "## get train_time"
   ]
  },
  {
   "cell_type": "code",
   "execution_count": 114,
   "id": "d8eb8b32",
   "metadata": {},
   "outputs": [],
   "source": [
    "time = pd.read_csv('train_time.csv')"
   ]
  },
  {
   "cell_type": "code",
   "execution_count": null,
   "id": "fe1665d6",
   "metadata": {},
   "outputs": [],
   "source": [
    "## sample linear regression"
   ]
  },
  {
   "cell_type": "code",
   "execution_count": 24,
   "id": "c71c19f1",
   "metadata": {},
   "outputs": [],
   "source": [
    "from sklearn.linear_model import LinearRegression"
   ]
  },
  {
   "cell_type": "code",
   "execution_count": 27,
   "id": "e34acb7d",
   "metadata": {},
   "outputs": [],
   "source": [
    "reg = LinearRegression().fit(train[[\"CALL_TYPE\",\"TIMESTAMP\",\"DAY_TYPE\",\"MISSING_DATA\"]], time)"
   ]
  },
  {
   "cell_type": "code",
   "execution_count": 34,
   "id": "e358930b",
   "metadata": {},
   "outputs": [
    {
     "data": {
      "text/plain": [
       "684.6503561542685"
      ]
     },
     "execution_count": 34,
     "metadata": {},
     "output_type": "execute_result"
    }
   ],
   "source": [
    "trainPred = reg.predict(train[[\"CALL_TYPE\",\"TIMESTAMP\",\"DAY_TYPE\",\"MISSING_DATA\"]])\n",
    "(np.mean((trainPred-time)**2))**0.5"
   ]
  },
  {
   "cell_type": "code",
   "execution_count": 35,
   "id": "3d269e0e",
   "metadata": {},
   "outputs": [],
   "source": [
    "test_pred = reg.predict(test[[\"CALL_TYPE\",\"TIMESTAMP\",\"DAY_TYPE\",\"MISSING_DATA\"]])"
   ]
  },
  {
   "cell_type": "code",
   "execution_count": 71,
   "id": "065f6e92",
   "metadata": {},
   "outputs": [],
   "source": [
    "#####"
   ]
  },
  {
   "cell_type": "code",
   "execution_count": 38,
   "id": "6d2a500a",
   "metadata": {},
   "outputs": [],
   "source": [
    "model = nn.Sequential(\n",
    "    nn.Linear(4, 24),\n",
    "    nn.ReLU(),\n",
    "    nn.Linear(24, 12),\n",
    "    nn.ReLU(),\n",
    "    nn.Linear(12, 6),\n",
    "    nn.ReLU(),\n",
    "    nn.Linear(6, 1)\n",
    ")"
   ]
  },
  {
   "cell_type": "code",
   "execution_count": 39,
   "id": "4381357a",
   "metadata": {},
   "outputs": [],
   "source": [
    "loss_fn = nn.MSELoss()\n",
    "optimizer = optim.Adam(model.parameters(), lr=0.0001)"
   ]
  },
  {
   "cell_type": "code",
   "execution_count": 43,
   "id": "ca747a58",
   "metadata": {},
   "outputs": [],
   "source": [
    "from sklearn.model_selection import train_test_split"
   ]
  },
  {
   "cell_type": "code",
   "execution_count": 115,
   "id": "16ba512b",
   "metadata": {},
   "outputs": [],
   "source": [
    "X = train[[\"CALL_TYPE\",\"TIMESTAMP\",\"DAY_TYPE\",\"MISSING_DATA\"]].to_numpy().astype(float)\n",
    "y = time.to_numpy()"
   ]
  },
  {
   "cell_type": "code",
   "execution_count": 116,
   "id": "5c9b995f",
   "metadata": {},
   "outputs": [],
   "source": [
    "X_train, X_test, y_train, y_test = train_test_split(X, y, train_size=0.7, shuffle=True)"
   ]
  },
  {
   "cell_type": "code",
   "execution_count": 117,
   "id": "38bcf81a",
   "metadata": {},
   "outputs": [],
   "source": [
    "X_train = torch.tensor(X_train, dtype=torch.float32)\n",
    "y_train = torch.tensor(y_train, dtype=torch.float32).reshape(-1, 1)\n",
    "X_test = torch.tensor(X_test, dtype=torch.float32)\n",
    "y_test = torch.tensor(y_test, dtype=torch.float32).reshape(-1, 1)"
   ]
  },
  {
   "cell_type": "code",
   "execution_count": 118,
   "id": "bbc56a11",
   "metadata": {},
   "outputs": [],
   "source": [
    "save = {'w':None,'history':[],'mse':np.inf}"
   ]
  },
  {
   "cell_type": "code",
   "execution_count": 119,
   "id": "c851cc98",
   "metadata": {},
   "outputs": [],
   "source": [
    "if os.path.exists('weight.pt'):\n",
    "    save['w'] = torch.load('weight.pt')\n",
    "if os.path.exists('history.txt'):\n",
    "    with open('history.txt', 'r') as filehandle:\n",
    "        for line in filehandle:\n",
    "            save['history'].append(float(line[:-1]))\n",
    "if os.path.exists('best_mse.txt'):\n",
    "    with open('history.txt', 'r') as filehandle:\n",
    "        for line in filehandle:\n",
    "            save['mse']= float(line[:-1])"
   ]
  },
  {
   "cell_type": "code",
   "execution_count": 90,
   "id": "eba6e27d",
   "metadata": {},
   "outputs": [
    {
     "data": {
      "text/plain": [
       "<All keys matched successfully>"
      ]
     },
     "execution_count": 90,
     "metadata": {},
     "output_type": "execute_result"
    }
   ],
   "source": [
    "n_epochs = 100   # number of epochs to run\n",
    "batch_size = 128  # size of each batch\n",
    "batch_start = torch.arange(0, len(X_train), batch_size)\n",
    "\n",
    "best_mse = save['mse']  # init to infinity\n",
    "best_weights = save['w']\n",
    "history = save['history']\n",
    "\n",
    "for epoch in range(n_epochs):\n",
    "    model.train()\n",
    "    with tqdm.tqdm(batch_start, unit=\"batch\", mininterval=0, disable=True) as bar:\n",
    "        bar.set_description(f\"Epoch {epoch}\")\n",
    "        for start in bar:\n",
    "            # take a batch\n",
    "            X_batch = X_train[start:start+batch_size]\n",
    "            y_batch = y_train[start:start+batch_size]\n",
    "            # forward pass\n",
    "            y_pred = model(X_batch)\n",
    "            loss = loss_fn(y_pred, y_batch)\n",
    "            # backward pass\n",
    "            optimizer.zero_grad()\n",
    "            loss.backward()\n",
    "            # update weights\n",
    "            optimizer.step()\n",
    "            # print progress\n",
    "            bar.set_postfix(mse=float(loss))\n",
    "    # evaluate accuracy at end of each epoch\n",
    "    model.eval()\n",
    "    y_pred = model(X_test)\n",
    "    mse = loss_fn(y_pred, y_test)\n",
    "    mse = float(mse)\n",
    "    history.append(mse)\n",
    "    if mse < best_mse:\n",
    "        best_mse = mse\n",
    "        best_weights = copy.deepcopy(model.state_dict())\n",
    "\n",
    "model.load_state_dict(best_weights)"
   ]
  },
  {
   "cell_type": "code",
   "execution_count": 91,
   "id": "8222ce25",
   "metadata": {},
   "outputs": [],
   "source": [
    "save['mse'] = best_mse\n",
    "save['history'] = history\n",
    "save['w']=best_weights"
   ]
  },
  {
   "cell_type": "code",
   "execution_count": null,
   "id": "7afe790a",
   "metadata": {},
   "outputs": [],
   "source": [
    "###save the progress so far"
   ]
  },
  {
   "cell_type": "code",
   "execution_count": 107,
   "id": "480b8570",
   "metadata": {},
   "outputs": [],
   "source": [
    "torch.save(save['w'], 'weight.pt')\n",
    "with open('history.txt', 'w') as f:\n",
    "    for line in history:\n",
    "        f.write(\"%s\\n\" % line)\n",
    "with open('best_mse.txt', 'w') as f:\n",
    "    f.write(\"%s\\n\" % save['mse'])"
   ]
  },
  {
   "cell_type": "code",
   "execution_count": 93,
   "id": "a98ca153",
   "metadata": {},
   "outputs": [
    {
     "name": "stdout",
     "output_type": "stream",
     "text": [
      "MSE: 605450.75\n",
      "RMSE: 778.11\n"
     ]
    },
    {
     "data": {
      "image/png": "[encoded data removed]",
      "text/plain": [
       "<Figure size 640x480 with 1 Axes>"
      ]
     },
     "metadata": {},
     "output_type": "display_data"
    }
   ],
   "source": [
    "model.load_state_dict(best_weights)\n",
    "print(\"MSE: %.2f\" % best_mse)\n",
    "print(\"RMSE: %.2f\" % np.sqrt(best_mse))\n",
    "plt.plot(history)\n",
    "plt.show()"
   ]
  },
  {
   "cell_type": "code",
   "execution_count": null,
   "id": "4d54a284",
   "metadata": {},
   "outputs": [],
   "source": []
  }
 ],
 "metadata": {
  "kernelspec": {
   "display_name": "Python [conda env:tfml]",
   "language": "python",
   "name": "conda-env-tfml-py"
  },
  "language_info": {
   "codemirror_mode": {
    "name": "ipython",
    "version": 3
   },
   "file_extension": ".py",
   "mimetype": "text/x-python",
   "name": "python",
   "nbconvert_exporter": "python",
   "pygments_lexer": "ipython3",
   "version": "3.10.9"
  }
 },
 "nbformat": 4,
 "nbformat_minor": 5
}
