{
 "cells": [
  {
   "cell_type": "code",
   "execution_count": 1,
   "id": "a79128f6",
   "metadata": {},
   "outputs": [],
   "source": [
    "import torch\n",
    "import torchvision\n",
    "import pandas as pd\n",
    "import torchvision.transforms as transforms\n",
    "import torch.nn as nn\n",
    "import torch.nn.functional as F\n",
    "import numpy as np\n",
    "import torch.optim as optim\n",
    "import tqdm \n",
    "import copy\n",
    "import os\n",
    "import matplotlib.pyplot as plt\n",
    "from sklearn.preprocessing import OneHotEncoder\n",
    "from sklearn.model_selection import train_test_split\n",
    "from datetime import timedelta\n",
    "from datetime import datetime"
   ]
  },
  {
   "cell_type": "code",
   "execution_count": 2,
   "id": "34487364",
   "metadata": {},
   "outputs": [],
   "source": [
    "df_tr = pd.read_csv(\"kaggle_data/train.csv\")\n",
    "def polyline_to_trip_duration(polyline):\n",
    "    return max(polyline.count(\"[\") - 2, 0) * 15\n",
    "\n",
    "df_tr[\"LEN\"] = df_tr[\"POLYLINE\"].apply(polyline_to_trip_duration)\n",
    "\n",
    "def parse_time(x):\n",
    "\n",
    "    dt = datetime.fromtimestamp(x[\"TIMESTAMP\"])\n",
    "    return dt.year, dt.month, dt.day, dt.hour, dt.weekday()\n",
    "\n",
    "df_tr[[\"YR\", \"MON\", \"DAY\", \"HR\", \"WK\"]] = df_tr[[\"TIMESTAMP\"]].apply(parse_time, axis=1, result_type=\"expand\")"
   ]
  },
  {
   "cell_type": "code",
   "execution_count": 3,
   "id": "3bc80500",
   "metadata": {},
   "outputs": [],
   "source": [
    "values = df_tr['ORIGIN_CALL'].value_counts()>1000\n",
    "ogcalls = df_tr['ORIGIN_CALL'].value_counts()[values].index"
   ]
  },
  {
   "cell_type": "code",
   "execution_count": 9,
   "id": "9807f3e5",
   "metadata": {},
   "outputs": [],
   "source": [
    "import holidays\n",
    "from datetime import date "
   ]
  },
  {
   "cell_type": "code",
   "execution_count": 10,
   "id": "d7ad08ae",
   "metadata": {},
   "outputs": [],
   "source": [
    "ptholi = holidays.PT()\n",
    "def ptholiday(x):\n",
    "    dt = datetime.fromtimestamp(x)\n",
    "    curr = date(dt.year, dt.month, dt.day)\n",
    "    if curr in ptholi:\n",
    "        return 2\n",
    "    if curr + timedelta(days=1) in ptholi:\n",
    "        return 1\n",
    "    else:\n",
    "        return 0"
   ]
  },
  {
   "cell_type": "code",
   "execution_count": 11,
   "id": "da84e2f1",
   "metadata": {},
   "outputs": [],
   "source": [
    "df_tr['holi']= df_tr['TIMESTAMP'].apply(ptholiday)"
   ]
  },
  {
   "cell_type": "code",
   "execution_count": 12,
   "id": "57a2b8f4",
   "metadata": {},
   "outputs": [],
   "source": [
    "def fillz(x):\n",
    "    if x.isna().any():\n",
    "        return 0\n",
    "    else:\n",
    "        return x['ORIGIN_STAND']"
   ]
  },
  {
   "cell_type": "code",
   "execution_count": 13,
   "id": "0bfc6283",
   "metadata": {},
   "outputs": [],
   "source": [
    "df_tr['ORIGIN_STAND'] = df_tr[['ORIGIN_STAND']].apply(fillz, axis=1)"
   ]
  },
  {
   "cell_type": "code",
   "execution_count": 14,
   "id": "edcccf59",
   "metadata": {},
   "outputs": [],
   "source": [
    "call = []\n",
    "for i in ogcalls:\n",
    "    call.append(i)\n",
    "caenc = OneHotEncoder(handle_unknown='ignore')\n",
    "caenc.fit(np.array([call]).reshape(-1,1))\n",
    "call = caenc.categories_\n",
    "catemp = pd.DataFrame(caenc.transform(df_tr[['ORIGIN_CALL']]).toarray())\n",
    "catemp.columns = call"
   ]
  },
  {
   "cell_type": "code",
   "execution_count": 15,
   "id": "56daff73",
   "metadata": {},
   "outputs": [],
   "source": [
    "ogc = []\n",
    "for i in range(1,64):\n",
    "    ogc.append(i*1.0)\n",
    "ogcenc = OneHotEncoder(handle_unknown='ignore')\n",
    "ogcenc.fit(np.array([ogc]).reshape(-1,1))\n",
    "ogc = ogcenc.categories_\n",
    "otemp = pd.DataFrame(ogcenc.transform(df_tr[['ORIGIN_STAND']]).toarray())\n",
    "otemp.columns = ogc"
   ]
  },
  {
   "cell_type": "code",
   "execution_count": 21,
   "id": "28a0c5e1",
   "metadata": {},
   "outputs": [],
   "source": [
    "dayenc = OneHotEncoder()\n",
    "dayenc.fit(df_tr[['WK']])\n",
    "dats = dayenc.categories_\n",
    "dtemp = pd.DataFrame(dayenc.transform(df_tr[['WK']]).toarray())\n",
    "dtemp.columns = dats"
   ]
  },
  {
   "cell_type": "code",
   "execution_count": 17,
   "id": "2346a279",
   "metadata": {},
   "outputs": [],
   "source": [
    "monenc = OneHotEncoder()\n",
    "monenc.fit(df_tr[['MON']])\n",
    "mons = monenc.categories_\n",
    "mtemp = pd.DataFrame(monenc.transform(df_tr[['MON']]).toarray())\n",
    "mtemp.columns = mons"
   ]
  },
  {
   "cell_type": "code",
   "execution_count": 18,
   "id": "ff187038",
   "metadata": {},
   "outputs": [],
   "source": [
    "hrenc = OneHotEncoder()\n",
    "hrenc.fit(df_tr[['HR']])\n",
    "hr = hrenc.categories_\n",
    "htemp = pd.DataFrame(hrenc.transform(df_tr[['HR']]).toarray())\n",
    "htemp.columns = hr"
   ]
  },
  {
   "cell_type": "code",
   "execution_count": 19,
   "id": "ad7bb79c",
   "metadata": {},
   "outputs": [],
   "source": [
    "callenc = OneHotEncoder()\n",
    "callenc.fit(df_tr[['CALL_TYPE']])\n",
    "calls = callenc.categories_\n",
    "ctemp = pd.DataFrame(callenc.transform(df_tr[['CALL_TYPE']]).toarray())\n",
    "ctemp.columns = calls"
   ]
  },
  {
   "cell_type": "code",
   "execution_count": 22,
   "id": "6e27db3d",
   "metadata": {},
   "outputs": [],
   "source": [
    "X  = df_tr.reset_index()[['holi']]\n",
    "X = pd.concat([X,catemp,otemp,dtemp,mtemp,htemp,ctemp],axis=1)"
   ]
  },
  {
   "cell_type": "code",
   "execution_count": 23,
   "id": "2a910f79",
   "metadata": {},
   "outputs": [],
   "source": [
    "X = X.to_numpy().astype(float)\n",
    "y = df_tr['LEN'].to_numpy().astype(float)"
   ]
  },
  {
   "cell_type": "code",
   "execution_count": 24,
   "id": "12777632",
   "metadata": {},
   "outputs": [],
   "source": [
    "device = torch.device('cuda')"
   ]
  },
  {
   "cell_type": "code",
   "execution_count": 38,
   "id": "2de12951",
   "metadata": {},
   "outputs": [],
   "source": [
    "from sklearn.model_selection import train_test_split\n",
    "X_train, X_test, y_train, y_test = train_test_split(X, y, train_size=0.7, shuffle=True)\n",
    "\n",
    "X_train = torch.tensor(X_train, dtype=torch.float32).to(device)\n",
    "y_train = torch.tensor(y_train, dtype=torch.float32).reshape(-1, 1).to(device)\n",
    "X_test = torch.tensor(X_test, dtype=torch.float32).to(device)\n",
    "y_test = torch.tensor(y_test, dtype=torch.float32).reshape(-1, 1).to(device)"
   ]
  },
  {
   "cell_type": "code",
   "execution_count": 39,
   "id": "004fed3f",
   "metadata": {},
   "outputs": [],
   "source": [
    "n_epochs = 50   # number of epochs to run\n",
    "batch_size = 256  # size of each batch\n",
    "batch_start = torch.arange(0, len(X_train), batch_size)"
   ]
  },
  {
   "cell_type": "code",
   "execution_count": 40,
   "id": "beaf2d42",
   "metadata": {},
   "outputs": [],
   "source": [
    "save = {'w':None,'history':[],'mse':np.inf}\n",
    "best_mse = save['mse']  # init to infinity\n",
    "best_weights = save['w']\n",
    "history_train = []\n",
    "history_test = []"
   ]
  },
  {
   "cell_type": "code",
   "execution_count": 25,
   "id": "b755cc80",
   "metadata": {},
   "outputs": [],
   "source": [
    "model = nn.Sequential(\n",
    "    nn.Linear(116, 256),\n",
    "    nn.ReLU(),\n",
    "    nn.Dropout(p=0.3),\n",
    "    nn.Linear(256, 64),\n",
    "    nn.ReLU(),\n",
    "    nn.Dropout(p=0.3),\n",
    "    nn.Linear(64, 16),\n",
    "    nn.ReLU(),\n",
    "    nn.Dropout(p=0.3),\n",
    "    nn.Linear(16, 1),\n",
    ").to(device)"
   ]
  },
  {
   "cell_type": "code",
   "execution_count": 86,
   "id": "5bd2f508",
   "metadata": {},
   "outputs": [
    {
     "data": {
      "text/plain": [
       "<All keys matched successfully>"
      ]
     },
     "execution_count": 86,
     "metadata": {},
     "output_type": "execute_result"
    }
   ],
   "source": [
    "loss_fn = nn.MSELoss()\n",
    "optimizer = optim.Adam(model.parameters(), lr=0.0001)\n",
    "model.load_state_dict(torch.load('actual_final_weight.pt'))"
   ]
  },
  {
   "cell_type": "code",
   "execution_count": 87,
   "id": "00c7877e",
   "metadata": {},
   "outputs": [],
   "source": [
    "test = pd.read_csv('kaggle_data/test_public.csv')"
   ]
  },
  {
   "cell_type": "code",
   "execution_count": 88,
   "id": "31bab81e",
   "metadata": {},
   "outputs": [],
   "source": [
    "tid = test[['TRIP_ID']]\n",
    "test[[\"YR\", \"MON\", \"DAY\", \"HR\", \"WK\"]] = test[[\"TIMESTAMP\"]].apply(parse_time, axis=1, result_type=\"expand\")"
   ]
  },
  {
   "cell_type": "code",
   "execution_count": 89,
   "id": "8729685c",
   "metadata": {},
   "outputs": [],
   "source": [
    "test['holi']= test['TIMESTAMP'].apply(ptholiday)"
   ]
  },
  {
   "cell_type": "code",
   "execution_count": 90,
   "id": "8ac1955d",
   "metadata": {},
   "outputs": [],
   "source": [
    "test['ORIGIN_STAND'] = test[['ORIGIN_STAND']].apply(fillz, axis=1)"
   ]
  },
  {
   "cell_type": "code",
   "execution_count": 91,
   "id": "60d6875c",
   "metadata": {},
   "outputs": [],
   "source": [
    "call = caenc.categories_\n",
    "catest = pd.DataFrame(caenc.transform(test[['ORIGIN_CALL']]).toarray())\n",
    "catest.columns = call\n",
    "otest = pd.DataFrame(ogcenc.transform(test[['ORIGIN_STAND']]).toarray())\n",
    "otest.columns = ogc\n",
    "dtest = pd.DataFrame(dayenc.transform(test[['WK']]).toarray())\n",
    "dtest.columns = dats\n",
    "mtest = pd.DataFrame(monenc.transform(test[['MON']]).toarray())\n",
    "mtest.columns = mons\n",
    "htest = pd.DataFrame(hrenc.transform(test[['HR']]).toarray())\n",
    "htest.columns = hr\n",
    "ctest = pd.DataFrame(callenc.transform(test[['CALL_TYPE']]).toarray())"
   ]
  },
  {
   "cell_type": "code",
   "execution_count": 92,
   "id": "7d86b89c",
   "metadata": {},
   "outputs": [],
   "source": [
    "test = test[['holi']]\n",
    "test = pd.concat([test,catest,otest,dtest,mtest,htest,ctest],axis=1)\n",
    "test = test.to_numpy().astype(float)\n",
    "test = torch.tensor(test, dtype=torch.float32).to(device)"
   ]
  },
  {
   "cell_type": "code",
   "execution_count": 93,
   "id": "c87cda14",
   "metadata": {},
   "outputs": [],
   "source": [
    "with torch.no_grad():\n",
    "    model.eval()\n",
    "    pred = model(test)"
   ]
  },
  {
   "cell_type": "code",
   "execution_count": 94,
   "id": "6f644073",
   "metadata": {},
   "outputs": [],
   "source": [
    "pred = pred.cpu().detach().numpy().transpose()[0]\n",
    "tid['TRAVEL_TIME'] = pred\n",
    "tid.to_csv('predictions.csv',index=False)"
   ]
  },
  {
   "cell_type": "code",
   "execution_count": 95,
   "id": "c1b0c3e9",
   "metadata": {},
   "outputs": [
    {
     "data": {
      "text/html": [
       "<div>\n",
       "<style scoped>\n",
       "    .dataframe tbody tr th:only-of-type {\n",
       "        vertical-align: middle;\n",
       "    }\n",
       "\n",
       "    .dataframe tbody tr th {\n",
       "        vertical-align: top;\n",
       "    }\n",
       "\n",
       "    .dataframe thead th {\n",
       "        text-align: right;\n",
       "    }\n",
       "</style>\n",
       "<table border=\"1\" class=\"dataframe\">\n",
       "  <thead>\n",
       "    <tr style=\"text-align: right;\">\n",
       "      <th></th>\n",
       "      <th>TRIP_ID</th>\n",
       "      <th>TRAVEL_TIME</th>\n",
       "    </tr>\n",
       "  </thead>\n",
       "  <tbody>\n",
       "    <tr>\n",
       "      <th>0</th>\n",
       "      <td>T1</td>\n",
       "      <td>716.851318</td>\n",
       "    </tr>\n",
       "    <tr>\n",
       "      <th>1</th>\n",
       "      <td>T2</td>\n",
       "      <td>718.458252</td>\n",
       "    </tr>\n",
       "    <tr>\n",
       "      <th>2</th>\n",
       "      <td>T3</td>\n",
       "      <td>716.851318</td>\n",
       "    </tr>\n",
       "    <tr>\n",
       "      <th>3</th>\n",
       "      <td>T4</td>\n",
       "      <td>703.663574</td>\n",
       "    </tr>\n",
       "    <tr>\n",
       "      <th>4</th>\n",
       "      <td>T5</td>\n",
       "      <td>698.842773</td>\n",
       "    </tr>\n",
       "    <tr>\n",
       "      <th>...</th>\n",
       "      <td>...</td>\n",
       "      <td>...</td>\n",
       "    </tr>\n",
       "    <tr>\n",
       "      <th>315</th>\n",
       "      <td>T323</td>\n",
       "      <td>676.373047</td>\n",
       "    </tr>\n",
       "    <tr>\n",
       "      <th>316</th>\n",
       "      <td>T324</td>\n",
       "      <td>695.800415</td>\n",
       "    </tr>\n",
       "    <tr>\n",
       "      <th>317</th>\n",
       "      <td>T325</td>\n",
       "      <td>750.569214</td>\n",
       "    </tr>\n",
       "    <tr>\n",
       "      <th>318</th>\n",
       "      <td>T326</td>\n",
       "      <td>676.373047</td>\n",
       "    </tr>\n",
       "    <tr>\n",
       "      <th>319</th>\n",
       "      <td>T327</td>\n",
       "      <td>676.373047</td>\n",
       "    </tr>\n",
       "  </tbody>\n",
       "</table>\n",
       "<p>320 rows × 2 columns</p>\n",
       "</div>"
      ],
      "text/plain": [
       "    TRIP_ID  TRAVEL_TIME\n",
       "0        T1   716.851318\n",
       "1        T2   718.458252\n",
       "2        T3   716.851318\n",
       "3        T4   703.663574\n",
       "4        T5   698.842773\n",
       "..      ...          ...\n",
       "315    T323   676.373047\n",
       "316    T324   695.800415\n",
       "317    T325   750.569214\n",
       "318    T326   676.373047\n",
       "319    T327   676.373047\n",
       "\n",
       "[320 rows x 2 columns]"
      ]
     },
     "execution_count": 95,
     "metadata": {},
     "output_type": "execute_result"
    }
   ],
   "source": [
    "tid"
   ]
  },
  {
   "cell_type": "code",
   "execution_count": null,
   "id": "70d96e0b",
   "metadata": {},
   "outputs": [],
   "source": []
  },
  {
   "cell_type": "code",
   "execution_count": null,
   "id": "fd227e14",
   "metadata": {},
   "outputs": [],
   "source": []
  }
 ],
 "metadata": {
  "kernelspec": {
   "display_name": "Python 3 (ipykernel)",
   "language": "python",
   "name": "python3"
  },
  "language_info": {
   "codemirror_mode": {
    "name": "ipython",
    "version": 3
   },
   "file_extension": ".py",
   "mimetype": "text/x-python",
   "name": "python",
   "nbconvert_exporter": "python",
   "pygments_lexer": "ipython3",
   "version": "3.9.5"
  }
 },
 "nbformat": 4,
 "nbformat_minor": 5
}
